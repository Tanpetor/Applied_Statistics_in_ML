{
 "cells": [
  {
   "cell_type": "markdown",
   "metadata": {
    "id": "xpO92YkQ-9SB"
   },
   "source": [
    "# ДЗ 1, часть 2. Теория информации"
   ]
  },
  {
   "cell_type": "markdown",
   "metadata": {},
   "source": [
    "Имя, Фамилия: Тань Сипэн\n",
    "\n",
    "группа: 223\n",
    "\n",
    "**Оценка(для проверяющего):** 0 из 10\n",
    "\n",
    "**Дедлайн:** одновременно с частью 3"
   ]
  },
  {
   "cell_type": "code",
   "execution_count": 35,
   "metadata": {},
   "outputs": [],
   "source": [
    "#all imports here please\n",
    "import pickle as pkl\n",
    "\n",
    "from collections import OrderedDict\n",
    "import heapq\n",
    "\n",
    "import numpy as np\n",
    "import matplotlib.pyplot as plt\n",
    "%matplotlib inline\n",
    "#... add your own if necessary"
   ]
  },
  {
   "cell_type": "markdown",
   "metadata": {},
   "source": [
    "Энтропию можно использовать не только для описания хаотичности, беспорядочности и уровня неопределённости, но и для того, чтобы исследовать зависимость между случайными величинами, используя теорию информации. Начнём с базовых вещей и постепенно дойдём до ультрапопулярной эвристики выбора важных признаков для машинного обучения -- взаимной информации."
   ]
  },
  {
   "cell_type": "markdown",
   "metadata": {
    "id": "g4hbID4f_ZW7"
   },
   "source": [
    "## Задача 1. Поисследуем энтропию (2 балла)\n",
    "\n",
    "Будем предполагать, что нам даны две случайных величины $X,Y$, можете предполагать, что они дискретные или имеют плотности, выкладок этот факт не изменит, но делайте всё по одному стандарту: укажите ниже и придерживайтесь его на всём протяжении ДЗ, если явно не просят сделать иначе."
   ]
  },
  {
   "cell_type": "markdown",
   "metadata": {},
   "source": [
    "**Choose your weapon/Выберите ваше оружие/Сhoisissez votre arme/Изаберите себи оружje:**  \n",
    "\n",
    "$$\n",
    "\\sum_i\n",
    "$$  "
   ]
  },
  {
   "cell_type": "markdown",
   "metadata": {
    "id": "jU9QZbW0_gJi"
   },
   "source": [
    "### Независимость?\n",
    "\n",
    "Покажите, что если две случайных величины $X,Y$ независимы, то $H(X,Y)=H(X)+H(Y)$.\n",
    "\n",
    "Имейте в виду, что слева под знаком энтропии ДВЕ случайных величины, рассматриваемых как 2d-вектор, поэтому матожидание берётся по их совместному закону распределения. Это называется *совместной энтропией* величин $X,Y$."
   ]
  },
  {
   "cell_type": "markdown",
   "metadata": {},
   "source": [
    "$$H(X, Y) = -\\sum_{x} \\sum_{y} P(X = x, Y = y) \\log P(X = x, Y = y)$$\n",
    "$$= -\\sum_{x} \\sum_{y} P(X = x) P(Y = y) \\log [P(X = x) P(Y = y)]$$\n",
    "$$= -\\sum_{x} \\sum_{y} P(X = x) P(Y = y) \\log P(X = x) - \\sum_{x} \\sum_{y} P(X = x) P(Y = y) \\log P(Y = y)$$\n",
    "$$= -\\sum_{x} P(X = x) \\log P(X = x) \\sum_{y} P(Y = y) - \\sum_{y} P(Y = y) \\log P(Y = y) \\sum_{x} P(X = x)$$\n",
    "$$= -\\sum_{x} P(X = x) \\log P(X = x) - \\sum_{y} P(Y = y) \\log P(Y = y)$$\n",
    "$$= H(X) + H(Y)$$"
   ]
  },
  {
   "cell_type": "markdown",
   "metadata": {},
   "source": [
    "### Зависимость?"
   ]
  },
  {
   "cell_type": "markdown",
   "metadata": {},
   "source": [
    "Покажите, что в общем случае\n",
    "\n",
    "$$\n",
    "H(X,Y) = H(X) + H(Y \\vert X)\n",
    "$$\n",
    "и вычислите, чему будет равен остаток $H(Y \\vert X)$. Он носит название *условной энтропии*, не путайте с энтропией условного распределения."
   ]
  },
  {
   "cell_type": "markdown",
   "metadata": {},
   "source": [
    "$$H(X, Y) = -\\sum_{x} \\sum_{y} P(X = x, Y = y) \\log P(X = x, Y = y)$$\n",
    "\n",
    "$$= -\\sum_{x} \\sum_{y} P(X = x) P(Y = y \\vert X = x) \\log \\left( P(X = x) P(Y = y \\vert X = x) \\right)$$\n",
    "\n",
    "$$= -\\sum_{x} \\sum_{y} P(X = x) P(Y = y \\vert X = x) \\log P(X = x) - \\sum_{x} \\sum_{y} P(X = x) P(Y = y \\vert X = x) \\log P(Y = y \\vert X = x)$$\n",
    "\n",
    "$$= -\\sum_{x} P(X = x) \\log P(X = x) \\sum_{y} P(Y = y \\vert X = x) - \\sum_{x} \\sum_{y} P(X = x) P(Y = y \\vert X = x) \\log P(Y = y \\vert X = x)$$\n",
    "\n",
    "$$= -\\sum_{x} P(X = x) \\log P(X = x) - \\sum_{x} \\sum_{y} P(X = x) P(Y = y \\vert X = x) \\log P(Y = y \\vert X = x)$$\n",
    "\n",
    "$$= H(X) + H(Y \\vert X)$$\n",
    "\n",
    "$H(Y \\vert X) = - \\sum_{x} \\sum_{y} P(X = x) P(Y = y \\vert X = x) \\log P(Y = y \\vert X = x)$"
   ]
  },
  {
   "cell_type": "markdown",
   "metadata": {},
   "source": [
    "!! Обоснуйте, какой может быть физический смысл $H(Y\\vert X)$ (что она измеряет?) с точки зрения теории кодирования в случае дискретных СВ $X,Y$."
   ]
  },
  {
   "cell_type": "markdown",
   "metadata": {},
   "source": [
    "Условная энтропияопределяется как ожидаемое значение энтропии Y при различных значениях X."
   ]
  },
  {
   "cell_type": "markdown",
   "metadata": {
    "id": "ZDNXyjtgAdnv"
   },
   "source": [
    "## Задача 2. Взаимная информация (2 балла)\n",
    "\n",
    "Можно рассмотреть разницу\n",
    "\n",
    "$$\n",
    "I(X,Y) = H(X) - H(X \\vert Y),\n",
    "$$\n",
    "\n",
    "которая отражает в некотором смысле (вы наверняка об этом думали в окошке выше) уровень использования информации о значении $Y$ при кодировании $X$ (если мы о кодировании). Эта величина носит название *взаимной информации* и является ещё одним хорошим способом исследования зависимости между случайными величинами. Библиотека `sklearn` позволяет оценивать её по данным и тем самым выделять самые важные признаки для моделей машинного обучения."
   ]
  },
  {
   "cell_type": "markdown",
   "metadata": {
    "id": "9aMyr0QdAdnw"
   },
   "source": [
    "### Симметричность\n",
    "\n",
    "Докажите, что $I(X,Y)=I(Y,X)$."
   ]
  },
  {
   "cell_type": "markdown",
   "metadata": {},
   "source": [
    "$$\n",
    "I(X,Y) = H(X) - H(X \\vert Y)\n",
    "= H(X) + H(Y) - H(Y, X)\n",
    "$$\n",
    "\n",
    "$$\n",
    "I(Y,X) = H(Y) - H(Y \\vert X)\n",
    "= H(Y) + H(X) - H(Y, X)\n",
    "$$"
   ]
  },
  {
   "cell_type": "markdown",
   "metadata": {},
   "source": [
    "### Связь с KL\n",
    "\n",
    "Докажите, что $I(X,Y)= D_{KL}( p_{X,Y} \\vert p_{X}p_{Y})$. Слева совместное распределение $X,Y$, справа -- произведение вероятностей(или плотностей) $X,Y$. "
   ]
  },
  {
   "cell_type": "markdown",
   "metadata": {},
   "source": [
    "$\n",
    "I(X,Y) \\Longrightarrow\n",
    "$\n",
    "\n",
    "$$\n",
    "= H(X) - H(X \\vert Y) = H(Y) + H(X) - H(Y, X)\n",
    "$$\n",
    "\n",
    "$$\n",
    "= -\\sum_{x} P(X = x) \\log P(X = x) -\\sum_{y} P(Y = y) \\log P(Y = y) + \\sum_{x} \\sum_{y} P(X = x, Y = y) \\log P(X = x, Y = y)\n",
    "$$\n",
    "\n",
    "$$\n",
    "= \\sum_{x,y} p_{X,Y}(x, y) \\log p_{X,Y}(x, y) - \\sum_{x} p_X(x) \\log p_X(x) - \\sum_{y} p_Y(y) \\log p_Y(y)\n",
    "$$\n",
    "\n",
    "\n",
    "\n",
    "\n",
    "$\n",
    "D_{KL}(p_{X,Y} \\vert p_X p_Y) \\Longrightarrow\n",
    "$\n",
    "\n",
    "$$\n",
    "= \\sum_{x,y} p_{X,Y}(x, y) \\log p_{X,Y}(x, y) - \\sum_{x,y} p_{X,Y}(x, y) \\log (p_X(x) p_Y(y))\n",
    "$$\n",
    "\n",
    "$$\n",
    "= \\sum_{x,y} p_{X,Y}(x, y) \\log p_{X,Y}(x, y) - \\sum_{x,y} p_{X,Y}(x, y) [\\log p_X(x) + \\log p_Y(y)]\n",
    "$$\n",
    "\n",
    "$$\n",
    "= \\sum_{x,y} p_{X,Y}(x, y) \\log p_{X,Y}(x, y) - \\sum_{x} p_X(x) \\log p_X(x) - \\sum_{y} p_Y(y) \\log p_Y(y)\n",
    "$$"
   ]
  },
  {
   "cell_type": "markdown",
   "metadata": {},
   "source": [
    "### Какой смысл?..\n",
    "\n",
    "Как вы думаете, как интерпретируется $I(X,Y)$ в терминах теории кодирования (при дискретных $X,Y$)? Что измеряет эта величина?"
   ]
  },
  {
   "cell_type": "markdown",
   "metadata": {},
   "source": [
    "Взаимная информация $I(X,Y)$ является фундаментальным понятием в теории кодирования, связывающим характеристики канала связи с его способностью передавать информацию. Она позволяет количественно оценить, насколько выходной сигнал информативен относительно входного, и служит основой для разработки эффективных кодовых схем, максимально использующих потенциал канала."
   ]
  },
  {
   "cell_type": "markdown",
   "metadata": {},
   "source": [
    "## Максимальная энтропия (3 балла)\n",
    "\n",
    "### Экспоненциальное распределение\n",
    "\n",
    "(1 балл) Вычислите энтропию для экспоненциального распределения $Exp(\\lambda)$ и распределения Лапласа $Laplace(0,\\lambda)$, имеющее плотность $\\frac{\\lambda}{2} e^{-\\lambda \\vert x\\vert }$."
   ]
  },
  {
   "cell_type": "markdown",
   "metadata": {},
   "source": [
    "$$\n",
    "H(X) = -\\int_{-\\infty}^{+\\infty} f_X(x) \\ln f_X(x) \\, dx , Exp(\\lambda)\n",
    "$$\n",
    "\n",
    "$$\n",
    "H(X) = -\\int_{0}^{+\\infty} \\lambda e^{-\\lambda x} \\ln (\\lambda e^{-\\lambda x}) \\, dx\n",
    "= -\\int_{0}^{+\\infty} \\lambda e^{-\\lambda x} (\\ln \\lambda - \\lambda x) \\, dx\n",
    "= -\\ln \\lambda \\int_{0}^{+\\infty} \\lambda e^{-\\lambda x} \\, dx + \\lambda \\int_{0}^{+\\infty} \\lambda x e^{-\\lambda x} \\, dx\n",
    "= -\\ln \\lambda \\cdot 1 + \\lambda \\cdot \\frac{1}{\\lambda} \n",
    "$$\n",
    "$$\n",
    "= -\\ln \\lambda + 1\n",
    "$$\n",
    "\n",
    "Энтропия экспоненциального распределения равна: $H(X) = 1 - \\ln \\lambda$"
   ]
  },
  {
   "cell_type": "markdown",
   "metadata": {},
   "source": [
    "$$\n",
    "H(X) = -\\int_{-\\infty}^{+\\infty} f_X(x) \\ln f_X(x) \\, dx, Laplace(0,\\lambda)\n",
    "$$\n",
    "\n",
    "$$\n",
    "H(X) = -\\int_{-\\infty}^{+\\infty} \\frac{\\lambda}{2} e^{-\\lambda |x|} \\ln \\left( \\frac{\\lambda}{2} e^{-\\lambda |x|} \\right) \\, dx\n",
    "= -\\int_{-\\infty}^{+\\infty} \\frac{\\lambda}{2} e^{-\\lambda |x|} \\left( \\ln \\left( \\frac{\\lambda}{2} \\right) - \\lambda |x| \\right) \\, dx\n",
    "= -\\ln \\left( \\frac{\\lambda}{2} \\right) \\int_{-\\infty}^{+\\infty} \\frac{\\lambda}{2} e^{-\\lambda |x|} \\, dx + \\lambda \\int_{-\\infty}^{+\\infty} \\frac{\\lambda}{2} |x| e^{-\\lambda |x|} \\, dx\n",
    "$$\n",
    "\n",
    "$$\n",
    "= -\\ln \\left( \\frac{\\lambda}{2} \\right) \\cdot 1 + \\lambda \\cdot \\frac{1}{\\lambda} = -\\ln \\left( \\frac{\\lambda}{2} \\right) + 1\n",
    "= 1 - \\ln \\left( \\frac{\\lambda}{2} \\right) = 1 + \\ln \\left( \\frac{2}{\\lambda} \\right)\n",
    "$$\n",
    "\n",
    "Энтропия распределения Лапласа равна: $H(X) = 1 + \\ln \\left( \\frac{2}{\\lambda} \\right)$"
   ]
  },
  {
   "cell_type": "markdown",
   "metadata": {},
   "source": [
    "\n",
    "(2 балла) Докажите, что Экспоненциальное распределение $Exp(\\lambda)$ имеет максимальную энтропию среди всех абсолютно непрерывных вероятностных распределений с фиксированным средним и имеющих ненулевую плотность в области $x\\geq 0$."
   ]
  },
  {
   "cell_type": "markdown",
   "metadata": {},
   "source": [
    "$p(x)$ $-$ плотность некоторого распределения\n",
    "\n",
    "$p'(x)$ $-$ плотность экспоненциального распределения\n",
    "\n",
    "$$H(p) = CE(p' \\mid p) \\geq H(p')$$\n",
    "\n",
    "$$CE(p' \\mid p) = -\\int_{-\\infty}^{+\\infty} p'(x) \\log{p(x)} dx = -\\int_{-\\infty}^{+\\infty} p'(x) \\log{\\lambda e^{-\\lambda x}} dx = -\\int_{-\\infty}^{+\\infty} p'(x) \\log{\\lambda} dx + \\int_{-\\infty}^{+\\infty} p'(x) \\lambda x dx = -\\log{\\lambda} + \\lambda \\int_{-\\infty}^{+\\infty} p'(x) x dx $$\n",
    "$$= -\\log{\\lambda} + \\lambda \\cdot \\frac{1}{\\lambda} = 1 - \\log{\\lambda}$$"
   ]
  },
  {
   "cell_type": "markdown",
   "metadata": {},
   "source": [
    "## Строим свой код, основанный на частотах (3 балла)\n",
    "\n",
    "Представим себе для примера достаточно большую книгу (например, Войну и Мир Льва Николаевича Толстого). Для того, чтобы записывать буквы в кодировке UTF-8 требуется от 2 до 4 байт (каждый 8бит). Но книга -- это не просто какой-то iid равновероятный поток символов, а структурированный текст, структуру которого можно по-разному использовать. К примеру, мы можем задуматься над тем, чтобы сжать её, используя информацию о том, какие символы встречаются чаще: ведь более частые можно кодировать более короткими кодовыми словами, а более редкие -- более длинными.\n",
    "\n",
    "В этом идея [кода Хаффмана](https://compression.ru/download/articles/huff/huffman_1952_minimum-redundancy-codes.pdf), который мы попробуем поисследовать в самой простой наивной имплементации."
   ]
  },
  {
   "cell_type": "markdown",
   "metadata": {},
   "source": [
    "### Вычисляем языковую статистику\n",
    "\n",
    "Возьмём для примера текст вики-страницы [МО1](http://wiki.cs.hse.ru/%D0%9C%D0%B0%D1%88%D0%B8%D0%BD%D0%BD%D0%BE%D0%B5_%D0%BE%D0%B1%D1%83%D1%87%D0%B5%D0%BD%D0%B8%D0%B5_1)"
   ]
  },
  {
   "cell_type": "code",
   "execution_count": 36,
   "metadata": {
    "scrolled": true
   },
   "outputs": [
    {
     "name": "stdout",
     "output_type": "stream",
     "text": [
      "== О курсе ==\n",
      "\n",
      "\n",
      "\n",
      "[[Файл:ML_surfaces.png|280px|borderless|left]]\n",
      "\n",
      "\n",
      "\n",
      "Курс читается для студентов 3-го курса [https://cs.hse.ru/ami ПМИ ФКН ВШЭ] в 1-2 модулях.\n",
      "\n",
      "\n",
      "\n",
      "Проводится с 2016 го\n"
     ]
    }
   ],
   "source": [
    "with open(\"moText.txt\", \"r\", encoding=\"utf-8\") as f:\n",
    "    MOText = \"\\n\".join(f.readlines())\n",
    "\n",
    "print(MOText[:180])"
   ]
  },
  {
   "cell_type": "markdown",
   "metadata": {},
   "source": [
    "Это не сильно большой, но не очень маленький текст."
   ]
  },
  {
   "cell_type": "code",
   "execution_count": 37,
   "metadata": {},
   "outputs": [
    {
     "name": "stdout",
     "output_type": "stream",
     "text": [
      "10001\n"
     ]
    }
   ],
   "source": [
    "print(len(MOText))"
   ]
  },
  {
   "cell_type": "markdown",
   "metadata": {},
   "source": [
    "Вычислите частоту каждого символа, сохранив их в упорядоченный словарь (OrderedDict, пригодится для сортировок)  вида {<символ>: <частота>}."
   ]
  },
  {
   "cell_type": "code",
   "execution_count": 38,
   "metadata": {},
   "outputs": [],
   "source": [
    "from collections import OrderedDict\n",
    "\n",
    "def compute_char_frequency(text):\n",
    "    frequency = {}\n",
    "    for char in text:\n",
    "        frequency[char] = frequency.get(char, 0) + 1\n",
    "    ordered_frequency = OrderedDict(sorted(frequency.items(), key=lambda item: item[1], reverse=True))\n",
    "    return ordered_frequency\n",
    "\n",
    "text = MOText\n",
    "symFreqs = compute_char_frequency(text)"
   ]
  },
  {
   "cell_type": "code",
   "execution_count": 39,
   "metadata": {},
   "outputs": [
    {
     "name": "stdout",
     "output_type": "stream",
     "text": [
      " : 912\n",
      "\n",
      ": 525\n",
      "е: 389\n",
      "а: 378\n",
      "о: 369\n",
      "н: 350\n",
      "и: 343\n",
      "t: 305\n",
      "/: 281\n",
      "e: 217\n",
      "s: 197\n",
      "р: 185\n",
      "|: 185\n",
      "с: 180\n",
      "т: 175\n",
      ".: 163\n",
      "л: 159\n",
      "в: 155\n",
      "h: 147\n",
      "a: 145\n",
      "д: 143\n",
      "2: 140\n",
      "o: 140\n",
      "к: 134\n",
      "i: 134\n",
      "r: 125\n",
      "m: 125\n",
      "p: 114\n",
      "м: 106\n",
      "n: 105\n",
      "у: 99\n",
      ":: 96\n",
      "=: 89\n",
      "ч: 89\n",
      "l: 87\n",
      "п: 85\n",
      "[: 81\n",
      "]: 81\n",
      "0: 77\n",
      "-: 71\n",
      "я: 70\n",
      "ы: 70\n",
      "c: 67\n",
      "1: 64\n",
      "й: 63\n",
      "u: 59\n",
      "з: 59\n",
      "б: 58\n",
      "П: 57\n",
      "г: 54\n",
      "М: 53\n",
      "_: 52\n",
      "k: 48\n",
      "d: 46\n",
      "g: 44\n",
      "w: 43\n",
      "ь: 43\n",
      "К: 41\n",
      "И: 38\n",
      "А: 38\n",
      "y: 35\n",
      "ш: 35\n",
      ",: 33\n",
      "С: 32\n",
      "Д: 32\n",
      "b: 30\n",
      "v: 30\n",
      "ц: 29\n",
      "Б: 29\n",
      "M: 27\n",
      "В: 26\n",
      "f: 24\n",
      "': 24\n",
      "*: 21\n",
      "P: 20\n",
      "ж: 19\n",
      "х: 18\n",
      "+: 18\n",
      "Р: 17\n",
      "T: 17\n",
      "3: 16\n",
      "5: 16\n",
      "C: 16\n",
      "9: 16\n",
      "ю: 16\n",
      "Н: 15\n",
      "6: 15\n",
      "N: 15\n",
      "4: 14\n",
      "О: 13\n",
      "L: 13\n",
      "x: 13\n",
      "S: 13\n",
      "7: 13\n",
      "(: 13\n",
      "): 13\n",
      "Э: 12\n",
      "A: 12\n",
      "R: 12\n",
      "ф: 12\n",
      "H: 11\n",
      "!: 11\n",
      "З: 11\n",
      "F: 10\n",
      "Z: 10\n",
      "8: 9\n",
      "G: 9\n",
      "D: 9\n",
      "W: 9\n",
      "Т: 9\n",
      "E: 8\n",
      "V: 8\n",
      "щ: 8\n",
      "U: 7\n",
      "q: 7\n",
      "э: 7\n",
      "z: 7\n",
      "J: 7\n",
      "I: 7\n",
      "Ф: 6\n",
      "Ш: 6\n",
      "Е: 6\n",
      "K: 6\n",
      "X: 5\n",
      "?: 5\n",
      "B: 5\n",
      "ё: 5\n",
      "Y: 5\n",
      "У: 5\n",
      "Л: 4\n",
      "\": 4\n",
      "—: 4\n",
      "O: 3\n",
      "@: 3\n",
      "Я: 3\n",
      "%: 3\n",
      "Q: 2\n",
      "<: 2\n",
      "{: 2\n",
      "Г: 2\n",
      "}: 2\n",
      "&: 1\n",
      ">: 1\n",
      "ъ: 1\n",
      "Ч: 1\n",
      "j: 1\n",
      "Ю: 1\n",
      "Ж: 1\n",
      "In total 148 unique symbols, max freq= 912\n"
     ]
    }
   ],
   "source": [
    "for key,val in symFreqs.items():\n",
    "    print(f\"{key}: {val}\")\n",
    "print(f\"In total {len(symFreqs)} unique symbols, max freq= {max([val for val in symFreqs.values()])}\")"
   ]
  },
  {
   "cell_type": "markdown",
   "metadata": {},
   "source": [
    "### Строим Кодер и Декодер Хаффмана"
   ]
  },
  {
   "cell_type": "markdown",
   "metadata": {},
   "source": [
    "Это хорошее упражнение для ценителей алгоритмов, но давайте сократим себе время и попробуем адаптировать одну из [доступных реализаций](https://www.geeksforgeeks.org/huffman-coding-in-python/) под наш сценарий, обернув в привычную классовую структуру и сохранив максимальную представленность самого алгоритма."
   ]
  },
  {
   "cell_type": "code",
   "execution_count": 40,
   "metadata": {},
   "outputs": [
    {
     "name": "stdout",
     "output_type": "stream",
     "text": [
      "Character: f, Code: 0\n",
      "Character: a, Code: 1000\n",
      "Character: b, Code: 1001\n",
      "Character: c, Code: 101\n",
      "Character: d, Code: 110\n",
      "Character: e, Code: 111\n"
     ]
    }
   ],
   "source": [
    "#taken from https://www.geeksforgeeks.org/huffman-coding-in-python/\n",
    "class Node:\n",
    "    def __init__(self, symbol=None, frequency=None):\n",
    "        #print(\"CREATING\", symbol, frequency)\n",
    "        self.symbol = symbol\n",
    "        self.frequency = frequency\n",
    "        self.left = None\n",
    "        self.right = None\n",
    "\n",
    "    def __lt__(self, other):\n",
    "        return self.frequency < other.frequency\n",
    "\n",
    "def build_huffman_tree(chars, freq):\n",
    "  \n",
    "    # Create a priority queue of nodes\n",
    "    priority_queue = [Node(char, f) for char, f in zip(chars, freq)]\n",
    "    heapq.heapify(priority_queue)\n",
    "\n",
    "    # Build the Huffman tree\n",
    "    while len(priority_queue) > 1:\n",
    "        left_child = heapq.heappop(priority_queue)\n",
    "        right_child = heapq.heappop(priority_queue)\n",
    "        merged_node = Node(frequency=left_child.frequency + right_child.frequency)\n",
    "        merged_node.left = left_child\n",
    "        merged_node.right = right_child\n",
    "        heapq.heappush(priority_queue, merged_node)\n",
    "\n",
    "    return priority_queue[0]\n",
    "\n",
    "def generate_huffman_codes(node, code=\"\", huffman_codes={}):\n",
    "    if node is not None:\n",
    "        if node.symbol is not None:\n",
    "            huffman_codes[node.symbol] = code\n",
    "        else:\n",
    "            generate_huffman_codes(node.left, code + \"0\", huffman_codes)\n",
    "            generate_huffman_codes(node.right, code + \"1\", huffman_codes)\n",
    "\n",
    "    return huffman_codes\n",
    "\n",
    "def runTest():\n",
    "    # Given example (try it to test)\n",
    "    chars = ['a', 'b', 'c', 'd', 'e', 'f']\n",
    "    freq = [4, 7, 15, 17, 22, 42]\n",
    "\n",
    "    # Build the Huffman tree\n",
    "    root = build_huffman_tree(chars, freq)\n",
    "\n",
    "    # Generate Huffman codes\n",
    "    huffman_codes = generate_huffman_codes(root)\n",
    "\n",
    "    # Print Huffman codes\n",
    "    for char, code in huffman_codes.items():\n",
    "        print(f\"Character: {char}, Code: {code}\")\n",
    "        \n",
    "runTest()"
   ]
  },
  {
   "cell_type": "markdown",
   "metadata": {},
   "source": [
    "Надеемся, что этот код заработал.... Теперь напишем кодер, используя эту технологию."
   ]
  },
  {
   "cell_type": "code",
   "execution_count": 41,
   "metadata": {},
   "outputs": [],
   "source": [
    "class HuffmanCoderDecoder:\n",
    "    \n",
    "    def __init__(self,symbolProbaTable):\n",
    "        \"\"\"_summary_\n",
    "\n",
    "        Args:\n",
    "            symbolProbaTable (dict): a dict with symbol(keys) and probabilities (val)\n",
    "        \"\"\" \n",
    "        self.symbols = list(symbolProbaTable.keys())\n",
    "        self.probas = list(symbolProbaTable.values())\n",
    "        self.symbolProbaTable = symbolProbaTable\n",
    "        self.root = None\n",
    "        self.fit()\n",
    "        \n",
    "    def fit(self):\n",
    "        \"\"\"\n",
    "        Sets up encoder and decoder tables\n",
    "        \"\"\"        \n",
    "        self.root = build_huffman_tree(self.symbols, self.probas)\n",
    "        self.encoderTable = generate_huffman_codes(self.root)\n",
    "        self.decoderTable = {code: char for char, code in self.encoderTable.items()}\n",
    "        \n",
    "    def encode(self, text):\n",
    "        \"\"\"Encodes the text and returns encoded text\n",
    "\n",
    "        Args:\n",
    "            text (str): text to encode\n",
    "        Returns:\n",
    "            encodedText (str): encoded text\n",
    "        \"\"\"\n",
    "        encoded_text = ''.join(self.encoderTable[char] for char in text if char in self.encoderTable)\n",
    "        return encoded_text\n",
    "    \n",
    "    def decode(self, text):\n",
    "        \"\"\"Decodes the encoded text and returns decoded text\n",
    "\n",
    "        Args:\n",
    "            text (str): text to decode\n",
    "        Returns:\n",
    "            decodedText (str): decoded text\n",
    "        \"\"\" \n",
    "        decoded_text = []\n",
    "        current_code = \"\"\n",
    "        for bit in text:\n",
    "            current_code += bit\n",
    "            if current_code in self.decoderTable:\n",
    "                decoded_text.append(self.decoderTable[current_code])\n",
    "                current_code = \"\"\n",
    "        return ''.join(decoded_text)     "
   ]
  },
  {
   "cell_type": "code",
   "execution_count": 42,
   "metadata": {},
   "outputs": [],
   "source": [
    "textSample = MOText[:200]\n",
    "\n",
    "huff = HuffmanCoderDecoder(symFreqs)\n",
    "encText = huff.encode(textSample)\n",
    "decText = huff.decode(encText)"
   ]
  },
  {
   "cell_type": "code",
   "execution_count": 43,
   "metadata": {},
   "outputs": [
    {
     "name": "stdout",
     "output_type": "stream",
     "text": [
      "1011100101110000011111010000000011111101111110011101111111000001011100101110001000100010001001001001100100111101100000110100011000100011110111011110001111101101111111000011101000100010010111101100110111010011101111101111010100101111111011101111011101011001001011101110010110111111111111011101101101100100010011101011000101111011000111101001011101101011110111101011101011001010110101111011101100111000010011001001100010001000100010010011010110111111001110111100010110111010010110011010111001011001011110110101000011011100011011010100010111110110011011110110111110010101101100110001000100000011001110111000111110011100000000111111011111100111011111101000010010010111101000010000111111011101011011100110001100001110111101010010101111011101011110110010100101100100010110001110100101001010000011111011111110000111110100011101100000100110100010010110001111000101101101011111011010101001100000100010000001101001110000101110001111001110000110111101111100011011010101110011110010101000100010001001111101111001111000100010110000110111010010110010111101101010001011110000101110111111001101000100101000011111001110000110111101010010101000100010001001101100101101100101101100100101010010111100001111101100110001100111101110110110010110110010110110010\n"
     ]
    }
   ],
   "source": [
    "print(encText)"
   ]
  },
  {
   "cell_type": "code",
   "execution_count": 44,
   "metadata": {},
   "outputs": [
    {
     "name": "stdout",
     "output_type": "stream",
     "text": [
      "== О курсе ==\n",
      "\n",
      "\n",
      "\n",
      "[[Файл:ML_surfaces.png|280px|borderless|left]]\n",
      "\n",
      "\n",
      "\n",
      "Курс читается для студентов 3-го курса [https://cs.hse.ru/ami ПМИ ФКН ВШЭ] в 1-2 модулях.\n",
      "\n",
      "\n",
      "\n",
      "Проводится с 2016 года.\n",
      "\n",
      "\n",
      "\n",
      "'''Лектор:'''\n"
     ]
    }
   ],
   "source": [
    "print(decText)"
   ]
  },
  {
   "cell_type": "code",
   "execution_count": 45,
   "metadata": {},
   "outputs": [
    {
     "name": "stdout",
     "output_type": "stream",
     "text": [
      "== О курсе ==\n",
      "\n",
      "\n",
      "\n",
      "[[Файл:ML_surfaces.png|280px|borderless|left]]\n",
      "\n",
      "\n",
      "\n",
      "Курс читается для студентов 3-го курса [https://cs.hse.ru/ami ПМИ ФКН ВШЭ] в 1-2 модулях.\n",
      "\n",
      "\n",
      "\n",
      "Проводится с 2016 года.\n",
      "\n",
      "\n",
      "\n",
      "'''Лектор:'''\n"
     ]
    }
   ],
   "source": [
    "print(textSample)"
   ]
  },
  {
   "cell_type": "markdown",
   "metadata": {},
   "source": [
    "Вычислите, какое получилось сжатие"
   ]
  },
  {
   "cell_type": "code",
   "execution_count": 46,
   "metadata": {},
   "outputs": [
    {
     "name": "stdout",
     "output_type": "stream",
     "text": [
      "Compression(%):  180.43654001616815\n"
     ]
    }
   ],
   "source": [
    "print(\"Compression(%): \",len(textSample.encode('utf-8'))*8/len(encText)*100)"
   ]
  },
  {
   "cell_type": "markdown",
   "metadata": {},
   "source": [
    "Поздравляем, вы сделали простой алгоритм сжатия) .... если у вас больше 100%"
   ]
  },
  {
   "cell_type": "markdown",
   "metadata": {},
   "source": [
    "### Исследуем, как хорошо себя ведёт код при смене текста\n",
    "\n",
    "Сравните написанный кодер на двух понравившихся вам текстах на разные темы (возьмите по масштабу что-то похожее на страницу МО).\n",
    "\n",
    "1. Для чистоты эксперимента очистите оба текста от символов, которых нет в другом тексте\n",
    "2. Посчитайте таблицу частот для каждого из текстов\n",
    "3. Обучите кодер на тексте 1\n",
    "4. Обучите кодер на тексте 2\n",
    "5. Сопоставьте длину (в битах): \n",
    "   1. Текст1, закодированный кодером 1\n",
    "   2. Текст2, закодированный кодером 1\n",
    "   3. Текст1, закодированный кодером 2\n",
    "   4. Текст2, закодированный кодером 2\n",
    "6. Посчитайте KL-дивергенцию и кроссэнтропию в обе стороны между частотами кодера1 и кодера2\n",
    "\n",
    "Прокомментируйте результат.\n",
    "\n",
    "Не забудьте приложить к решению ваших два текстовых файла."
   ]
  },
  {
   "cell_type": "code",
   "execution_count": 47,
   "metadata": {},
   "outputs": [],
   "source": [
    "with open(\"text_1.txt\",\"r\", encoding=\"utf-8\") as f:\n",
    "    text1 = \"\\n\".join(f.readlines())\n",
    "with open(\"text_2.txt\",\"r\", encoding=\"utf-8\") as f:\n",
    "    text2 = \"\\n\".join(f.readlines())"
   ]
  },
  {
   "cell_type": "code",
   "execution_count": 48,
   "metadata": {},
   "outputs": [
    {
     "name": "stdout",
     "output_type": "stream",
     "text": [
      "7929\n",
      "8082\n"
     ]
    }
   ],
   "source": [
    "print(len(text1))\n",
    "print(len(text2))"
   ]
  },
  {
   "cell_type": "code",
   "execution_count": 49,
   "metadata": {},
   "outputs": [],
   "source": [
    "def kl_divergence(p, q, epsilon=1e-10):\n",
    "    divergence = 0.0\n",
    "    for key in p:\n",
    "        if p[key] == 0:\n",
    "            continue\n",
    "        p_val = p[key]\n",
    "        q_val = q.get(key, epsilon)\n",
    "        divergence += p_val * math.log(p_val / q_val, 2)\n",
    "    return divergence\n",
    "\n",
    "def cross_entropy(p, q):\n",
    "    ce = 0.0\n",
    "    for key in p:\n",
    "        if p[key] == 0:\n",
    "            continue\n",
    "        if key in q and q[key] > 0:\n",
    "            ce += p[key] * math.log(1 / q[key], 2)\n",
    "        else:\n",
    "            ce += 0\n",
    "    return ce\n",
    "\n",
    "def entropy(p):\n",
    "    h = 0.0\n",
    "    for key in p:\n",
    "        if p[key] > 0:\n",
    "            h -= p[key] * math.log(p[key], 2)\n",
    "    return h\n",
    "\n",
    "def compute_char_frequency(text):\n",
    "    frequency = {}\n",
    "    for char in text:\n",
    "        frequency[char] = (frequency.get(char, 0) + 1) #/ len(text)\n",
    "    ordered_frequency = OrderedDict(sorted(frequency.items(), key=lambda item: item[1], reverse=True))\n",
    "    for key, value in ordered_frequency.items():\n",
    "        ordered_frequency[key] = value / len(text)\n",
    "    return ordered_frequency"
   ]
  },
  {
   "cell_type": "code",
   "execution_count": 50,
   "metadata": {},
   "outputs": [],
   "source": [
    "common_chars = set(text1).intersection(set(text2))\n",
    "text1_clean = ''.join([char for char in text1 if char in common_chars])\n",
    "text2_clean = ''.join([char for char in text2 if char in common_chars])"
   ]
  },
  {
   "cell_type": "code",
   "execution_count": 51,
   "metadata": {},
   "outputs": [],
   "source": [
    "freq1 = compute_char_frequency(text1_clean)\n",
    "freq2 = compute_char_frequency(text2_clean)\n",
    "\n",
    "huff1 = HuffmanCoderDecoder(freq1)\n",
    "huff2 = HuffmanCoderDecoder(freq2)"
   ]
  },
  {
   "cell_type": "code",
   "execution_count": 52,
   "metadata": {},
   "outputs": [],
   "source": [
    "import math\n",
    "\n",
    "enc_text1_huff1 = huff1.encode(text1_clean)\n",
    "enc_text2_huff1 = huff1.encode(text2_clean)\n",
    "enc_text1_huff2 = huff2.encode(text1_clean)\n",
    "enc_text2_huff2 = huff2.encode(text2_clean)\n",
    "\n",
    "len_text1_huff1 = len(enc_text1_huff1)\n",
    "len_text2_huff1 = len(enc_text2_huff1)\n",
    "len_text1_huff2 = len(enc_text1_huff2)\n",
    "len_text2_huff2 = len(enc_text2_huff2)\n",
    "\n",
    "kl_1_2 = kl_divergence(freq1, freq2)\n",
    "kl_2_1 = kl_divergence(freq2, freq1)\n",
    "ce_1_2 = cross_entropy(freq1, freq2)\n",
    "ce_2_1 = cross_entropy(freq2, freq1)\n",
    "entropy1 = entropy(freq1)\n",
    "entropy2 = entropy(freq2)"
   ]
  },
  {
   "cell_type": "code",
   "execution_count": 53,
   "metadata": {},
   "outputs": [
    {
     "name": "stdout",
     "output_type": "stream",
     "text": [
      "KL(text1 | text2) = 0.022994169539037684\n",
      "KL(text2 | text1) = 0.020890861948454926\n",
      "CE(text1 | text2) = 4.329123198765133\n",
      "CE(text2 | text1) = 4.278781460473011\n",
      "H(text1) = 4.3061290292260965\n",
      "H(text2) = 4.257890598524558\n"
     ]
    }
   ],
   "source": [
    "print( f\"KL(text1 | text2) = {kl_1_2}\" )\n",
    "print( f\"KL(text2 | text1) = {kl_2_1}\" )\n",
    "print( f\"CE(text1 | text2) = {ce_1_2}\" )\n",
    "print( f\"CE(text2 | text1) = {ce_2_1}\" )\n",
    "print( f\"H(text1) = {entropy1}\" )\n",
    "print( f\"H(text2) = {entropy2}\" )"
   ]
  },
  {
   "cell_type": "code",
   "execution_count": 54,
   "metadata": {},
   "outputs": [
    {
     "name": "stdout",
     "output_type": "stream",
     "text": [
      "Coding with text1: text1Len=34349, text2Len=34502\n",
      "Coding with text2: text1Len=34349, text2Len=34502\n"
     ]
    }
   ],
   "source": [
    "print(f\"Coding with text1: text1Len={len_text1_huff1}, text2Len={len_text2_huff1}\") \n",
    "print(f\"Coding with text2: text1Len={len_text1_huff2}, text2Len={len_text2_huff2}\") "
   ]
  },
  {
   "cell_type": "code",
   "execution_count": 55,
   "metadata": {},
   "outputs": [],
   "source": [
    "#ADD A CHART like https://matplotlib.org/stable/gallery/lines_bars_and_markers/barchart.html\n",
    "#and draw distributions of text1 and text2\n",
    "#f, ax = plt.subplots\n",
    "#....\n",
    "# Подготовка данных для построения графика\n",
    "dict_1 = compute_char_frequency(text1_clean)\n",
    "dict_2 = compute_char_frequency(text2_clean)\n",
    "dict_merge = {}\n",
    "for key, value in dict_2.items():\n",
    "    dict_merge[key] = []\n",
    "    dict_merge[key].append(dict_1[key])\n",
    "    dict_merge[key].append(dict_2[key])"
   ]
  },
  {
   "cell_type": "code",
   "execution_count": 56,
   "metadata": {
    "scrolled": false
   },
   "outputs": [
    {
     "data": {
      "image/png": "[encoded data removed]",
      "text/plain": [
       "<Figure size 1200x700 with 1 Axes>"
      ]
     },
     "metadata": {},
     "output_type": "display_data"
    }
   ],
   "source": [
    "characters = sorted(dict_merge.keys(), key=lambda x: dict_merge[x], reverse=True)\n",
    "freq_text1 = [dict_merge[char][0] for char in characters]\n",
    "freq_text2 = [dict_merge[char][1] for char in characters]\n",
    "\n",
    "x = np.arange(len(characters))\n",
    "width = 0.35\n",
    "fig, ax = plt.subplots(figsize=(12, 7))\n",
    "\n",
    "rects1 = ax.bar(x - width/2, freq_text1, width, label='text1', color='blue')\n",
    "\n",
    "rects2 = ax.bar(x + width/2, freq_text2, width, label='text2', color='red')\n",
    "\n",
    "ax.set_ylabel('Частота')\n",
    "\n",
    "ax.set_xticks(x)\n",
    "ax.set_xticklabels(characters)\n",
    "ax.legend()\n",
    "\n",
    "def autolabel(rects):\n",
    "    for rect in rects:\n",
    "        height = rect.get_height()\n",
    "        ax.annotate(f'{height:.2f}',\n",
    "                    xy=(rect.get_x() + rect.get_width() / 2, height),\n",
    "                    xytext=(0, 3),  \n",
    "                    textcoords=\"offset points\",\n",
    "                    ha='center', va='bottom')\n",
    "        \n",
    "ax.set_ylim(0, max(max(freq_text1), max(freq_text2)) + 0.00005)\n",
    "\n",
    "ax.yaxis.grid(True, linestyle='--', which='major', color='grey', alpha=.25)\n",
    "\n",
    "plt.tight_layout()\n",
    "plt.show()"
   ]
  }
 ],
 "metadata": {
  "colab": {
   "collapsed_sections": [
    "ZGDzE6YO9zYe",
    "g4hbID4f_ZW7",
    "ZDNXyjtgAdnv",
    "75QeT2ShA1KU"
   ],
   "provenance": []
  },
  "kernelspec": {
   "display_name": "Python 3 (ipykernel)",
   "language": "python",
   "name": "python3"
  },
  "language_info": {
   "codemirror_mode": {
    "name": "ipython",
    "version": 3
   },
   "file_extension": ".py",
   "mimetype": "text/x-python",
   "name": "python",
   "nbconvert_exporter": "python",
   "pygments_lexer": "ipython3",
   "version": "3.12.3"
  }
 },
 "nbformat": 4,
 "nbformat_minor": 1
}

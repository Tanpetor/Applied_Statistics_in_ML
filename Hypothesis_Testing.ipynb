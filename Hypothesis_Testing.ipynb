{
 "cells": [
  {
   "cell_type": "markdown",
   "metadata": {},
   "source": [
    "# ДЗ 2. Проверка гипотез"
   ]
  },
  {
   "cell_type": "markdown",
   "metadata": {},
   "source": [
    "Имя, Фамилия: Тань Сипэн\n",
    "\n",
    "группа: 223\n",
    "\n",
    "**Оценка(для проверяющего):** 0 из 32\n",
    "\n",
    "**Дедлайн:** 24 ноября 23:59 (решение нужно сдать в энитаск)"
   ]
  },
  {
   "cell_type": "markdown",
   "metadata": {},
   "source": [
    "# Введение. Несколько слов о шахматах"
   ]
  },
  {
   "cell_type": "markdown",
   "metadata": {},
   "source": [
    "В этом домашнем задании вам будет представлен набор данных связанных с шахматами. Напомним, что шахматная партия может заканчиваться одним из трёх исходов:\n",
    "- Победа белых (записывается как 1-0)\n",
    "- Победа чёрных (записывается как 0-1)\n",
    "- Ничейный исход (записывается как 1/2-1/2)\n",
    "\n",
    "Также, в соревновательных шахматах есть временной контроль: партии делятся на несколько категорий, в зависимости от того, сколько времени оппонненты имеют на размышления:\n",
    "- Блиц (до 10 минут на все ходы, возможно с добавлением времени после каждого хода)\n",
    "- Рапид (от 10 до 30 минут на все ходы, возможно с добавлением времени после каждого хода)\n",
    "- Классические или медленные шахматы (от 30 минут на все ходы, часто с добавлением времени после 40 и 60 ходов)\n",
    "\n",
    "Для того чтобы как-то классифицировать силу игроков, была введена рейтинговая система ELO, на основании которой игрокам присуждается ранг (например международный мастер или гроссмейстер) и формируются турниры. Отметим что рейтинг ELO меняется, в зависимости от того, в каком формате временного контроля игрок участвует (т.е. у одного человека разный рейтинг для блица, рапида и классических шахмат). \n",
    "\n",
    "В этом датасете собраны основные данные об шахматных партиях, сыгранными за период с 1980 по 2021 года.\n",
    "- Представлены партии всех трех форматов, формат партии указан в поле ``control``\n",
    "- Исход партии представлен в поле ``result``\n",
    "- Рейтинги оппонентов записаны в полях ``elo_white`` и ``elo_black`` для рейтинга играющих за белых и за черных соответственно.  \n",
    "    - Поле ``elo_average`` содержит среднее значение ``elo_white`` и ``elo_black`` -- _усредненный рейтинг (оппонентов)_. \n",
    "    - Поле ``elo_difference`` содержит в себе значение ``elo_white - elo_black``. \n",
    "- Поле ``opening`` содержит одно из пяти значений ``'A', 'B', 'C', 'D', 'E'``, которое кодирует информацию о нескольких первых ходах в партии (см. задачу 3 для деталей). \n",
    "- В поле ``length`` записано число сделанных ходов в партии. Обратите внимание, что ход -- это движение одной фигуры со стороны белых **и** движение одной фигуры со стороны чёрных, т.е. за один ход и белые и черные совершают по действию.\n",
    "- Поля ``date`` и ``site`` содержат информацию о том, в каком году была сыграна партия и место её проведения соответственно. "
   ]
  },
  {
   "cell_type": "markdown",
   "metadata": {},
   "source": [
    "## Обзор данных (2 балла)\n",
    "В этой секции вам предлагается познакомиться с данными. Посмотрите на три разных формата временного контроля. Сравните как в каждом из них \n",
    "- Распределены исходы партий (победа белых/победа чёрных/ничья)\n",
    "- Распределены усреднённые рейтинги оппонентов партий \n",
    "- Распределены длительности партий \n",
    "\n",
    "**Бонус (max 3 дополнительных балла)** При желании, можно также посмотреть другие вещи --- например как менялось количество партий по декадам или пятилеткам. Попробуйте обнаружить и _объяснить_ интересные и статистически значимые феномены.  "
   ]
  },
  {
   "cell_type": "code",
   "execution_count": 1,
   "metadata": {
    "execution": {
     "iopub.execute_input": "2024-11-03T12:39:23.413475Z",
     "iopub.status.busy": "2024-11-03T12:39:23.412551Z",
     "iopub.status.idle": "2024-11-03T12:39:23.419191Z",
     "shell.execute_reply": "2024-11-03T12:39:23.417979Z",
     "shell.execute_reply.started": "2024-11-03T12:39:23.413409Z"
    }
   },
   "outputs": [],
   "source": [
    "import numpy as np\n",
    "import pandas as pd\n",
    "pd.set_option('display.precision', 5)\n",
    "import scipy.stats as stats\n",
    "\n",
    "import matplotlib.pyplot as plt\n",
    "import seaborn as sns\n",
    "\n",
    "#add your imports if necessary"
   ]
  },
  {
   "cell_type": "code",
   "execution_count": 4,
   "metadata": {
    "execution": {
     "iopub.execute_input": "2024-11-03T12:39:23.647649Z",
     "iopub.status.busy": "2024-11-03T12:39:23.647239Z",
     "iopub.status.idle": "2024-11-03T12:39:34.869185Z",
     "shell.execute_reply": "2024-11-03T12:39:34.868058Z",
     "shell.execute_reply.started": "2024-11-03T12:39:23.647612Z"
    }
   },
   "outputs": [
    {
     "data": {
      "text/html": [
       "<div>\n",
       "<style scoped>\n",
       "    .dataframe tbody tr th:only-of-type {\n",
       "        vertical-align: middle;\n",
       "    }\n",
       "\n",
       "    .dataframe tbody tr th {\n",
       "        vertical-align: top;\n",
       "    }\n",
       "\n",
       "    .dataframe thead th {\n",
       "        text-align: right;\n",
       "    }\n",
       "</style>\n",
       "<table border=\"1\" class=\"dataframe\">\n",
       "  <thead>\n",
       "    <tr style=\"text-align: right;\">\n",
       "      <th></th>\n",
       "      <th>result</th>\n",
       "      <th>control</th>\n",
       "      <th>elo_white</th>\n",
       "      <th>elo_black</th>\n",
       "      <th>elo_average</th>\n",
       "      <th>elo_difference</th>\n",
       "      <th>length</th>\n",
       "      <th>opening</th>\n",
       "      <th>date</th>\n",
       "      <th>site</th>\n",
       "    </tr>\n",
       "  </thead>\n",
       "  <tbody>\n",
       "    <tr>\n",
       "      <th>0</th>\n",
       "      <td>1/2-1/2</td>\n",
       "      <td>slow</td>\n",
       "      <td>2380</td>\n",
       "      <td>2330</td>\n",
       "      <td>2355.0</td>\n",
       "      <td>50</td>\n",
       "      <td>25</td>\n",
       "      <td>C</td>\n",
       "      <td>1980</td>\n",
       "      <td>Prague</td>\n",
       "    </tr>\n",
       "    <tr>\n",
       "      <th>1</th>\n",
       "      <td>1/2-1/2</td>\n",
       "      <td>slow</td>\n",
       "      <td>2425</td>\n",
       "      <td>2545</td>\n",
       "      <td>2485.0</td>\n",
       "      <td>-120</td>\n",
       "      <td>104</td>\n",
       "      <td>E</td>\n",
       "      <td>1980</td>\n",
       "      <td>Prague</td>\n",
       "    </tr>\n",
       "    <tr>\n",
       "      <th>2</th>\n",
       "      <td>0-1</td>\n",
       "      <td>slow</td>\n",
       "      <td>2445</td>\n",
       "      <td>2410</td>\n",
       "      <td>2427.5</td>\n",
       "      <td>35</td>\n",
       "      <td>85</td>\n",
       "      <td>C</td>\n",
       "      <td>1980</td>\n",
       "      <td>Prague</td>\n",
       "    </tr>\n",
       "    <tr>\n",
       "      <th>3</th>\n",
       "      <td>0-1</td>\n",
       "      <td>slow</td>\n",
       "      <td>2435</td>\n",
       "      <td>2445</td>\n",
       "      <td>2440.0</td>\n",
       "      <td>-10</td>\n",
       "      <td>82</td>\n",
       "      <td>D</td>\n",
       "      <td>1980</td>\n",
       "      <td>Prague</td>\n",
       "    </tr>\n",
       "    <tr>\n",
       "      <th>4</th>\n",
       "      <td>1/2-1/2</td>\n",
       "      <td>slow</td>\n",
       "      <td>2410</td>\n",
       "      <td>2380</td>\n",
       "      <td>2395.0</td>\n",
       "      <td>30</td>\n",
       "      <td>16</td>\n",
       "      <td>A</td>\n",
       "      <td>1980</td>\n",
       "      <td>Prague</td>\n",
       "    </tr>\n",
       "  </tbody>\n",
       "</table>\n",
       "</div>"
      ],
      "text/plain": [
       "    result control  elo_white  elo_black  elo_average  elo_difference  length  \\\n",
       "0  1/2-1/2    slow       2380       2330       2355.0              50      25   \n",
       "1  1/2-1/2    slow       2425       2545       2485.0            -120     104   \n",
       "2      0-1    slow       2445       2410       2427.5              35      85   \n",
       "3      0-1    slow       2435       2445       2440.0             -10      82   \n",
       "4  1/2-1/2    slow       2410       2380       2395.0              30      16   \n",
       "\n",
       "  opening  date    site  \n",
       "0       C  1980  Prague  \n",
       "1       E  1980  Prague  \n",
       "2       C  1980  Prague  \n",
       "3       D  1980  Prague  \n",
       "4       A  1980  Prague  "
      ]
     },
     "execution_count": 4,
     "metadata": {},
     "output_type": "execute_result"
    }
   ],
   "source": [
    "games_df = pd.read_csv(\"games.csv\")\n",
    "games_df.head()"
   ]
  },
  {
   "cell_type": "code",
   "execution_count": 5,
   "metadata": {
    "execution": {
     "iopub.execute_input": "2024-11-03T12:39:34.871929Z",
     "iopub.status.busy": "2024-11-03T12:39:34.871431Z",
     "iopub.status.idle": "2024-11-03T12:39:34.888462Z",
     "shell.execute_reply": "2024-11-03T12:39:34.887096Z",
     "shell.execute_reply.started": "2024-11-03T12:39:34.871879Z"
    }
   },
   "outputs": [
    {
     "name": "stdout",
     "output_type": "stream",
     "text": [
      "<class 'pandas.core.frame.DataFrame'>\n",
      "RangeIndex: 5767540 entries, 0 to 5767539\n",
      "Data columns (total 10 columns):\n",
      " #   Column          Dtype  \n",
      "---  ------          -----  \n",
      " 0   result          object \n",
      " 1   control         object \n",
      " 2   elo_white       int64  \n",
      " 3   elo_black       int64  \n",
      " 4   elo_average     float64\n",
      " 5   elo_difference  int64  \n",
      " 6   length          int64  \n",
      " 7   opening         object \n",
      " 8   date            int64  \n",
      " 9   site            object \n",
      "dtypes: float64(1), int64(5), object(4)\n",
      "memory usage: 440.0+ MB\n"
     ]
    }
   ],
   "source": [
    "games_df.info(verbose = True)"
   ]
  },
  {
   "cell_type": "code",
   "execution_count": 6,
   "metadata": {
    "execution": {
     "iopub.execute_input": "2024-11-03T12:39:34.890592Z",
     "iopub.status.busy": "2024-11-03T12:39:34.890058Z",
     "iopub.status.idle": "2024-11-03T12:39:59.701351Z",
     "shell.execute_reply": "2024-11-03T12:39:59.700279Z",
     "shell.execute_reply.started": "2024-11-03T12:39:34.890531Z"
    }
   },
   "outputs": [
    {
     "data": {
      "image/png": "[encoded data removed]",
      "text/plain": [
       "<Figure size 640x480 with 1 Axes>"
      ]
     },
     "metadata": {},
     "output_type": "display_data"
    }
   ],
   "source": [
    "result_distribution = games_df.groupby(['control', 'result']).size().unstack(fill_value=0)\n",
    "\n",
    "result_distribution.plot(kind='bar', stacked=True)\n",
    "plt.title('Distribution of Results by Control Type')\n",
    "plt.xlabel('Control Type')\n",
    "plt.ylabel('Number of Games')\n",
    "plt.xticks(rotation=0)\n",
    "plt.legend(title='Result')\n",
    "plt.show()"
   ]
  },
  {
   "cell_type": "markdown",
   "metadata": {},
   "source": [
    "Видно, что в разных временных форматах совершенно разное распределение исходов партий. Это указывает нам на то что надо завести три различных набора данных и работать с каждым по отдельности:"
   ]
  },
  {
   "cell_type": "code",
   "execution_count": 8,
   "metadata": {
    "execution": {
     "iopub.execute_input": "2024-11-03T12:39:59.704304Z",
     "iopub.status.busy": "2024-11-03T12:39:59.703935Z",
     "iopub.status.idle": "2024-11-03T12:40:03.404795Z",
     "shell.execute_reply": "2024-11-03T12:40:03.403585Z",
     "shell.execute_reply.started": "2024-11-03T12:39:59.704265Z"
    }
   },
   "outputs": [],
   "source": [
    "slow  = games_df[games_df[\"control\"] == \"slow\"]\n",
    "rapid = games_df[games_df[\"control\"] == \"rapid\"]\n",
    "blitz = games_df[games_df[\"control\"] == \"blitz\"]"
   ]
  },
  {
   "cell_type": "markdown",
   "metadata": {},
   "source": [
    "Постройте для каждого из контролей распределение усредненного рейтинга партий и длин партий."
   ]
  },
  {
   "cell_type": "code",
   "execution_count": 9,
   "metadata": {},
   "outputs": [
    {
     "data": {
      "text/html": [
       "<div>\n",
       "<style scoped>\n",
       "    .dataframe tbody tr th:only-of-type {\n",
       "        vertical-align: middle;\n",
       "    }\n",
       "\n",
       "    .dataframe tbody tr th {\n",
       "        vertical-align: top;\n",
       "    }\n",
       "\n",
       "    .dataframe thead th {\n",
       "        text-align: right;\n",
       "    }\n",
       "</style>\n",
       "<table border=\"1\" class=\"dataframe\">\n",
       "  <thead>\n",
       "    <tr style=\"text-align: right;\">\n",
       "      <th></th>\n",
       "      <th>result</th>\n",
       "      <th>control</th>\n",
       "      <th>elo_white</th>\n",
       "      <th>elo_black</th>\n",
       "      <th>elo_average</th>\n",
       "      <th>elo_difference</th>\n",
       "      <th>length</th>\n",
       "      <th>opening</th>\n",
       "      <th>date</th>\n",
       "      <th>site</th>\n",
       "    </tr>\n",
       "  </thead>\n",
       "  <tbody>\n",
       "    <tr>\n",
       "      <th>0</th>\n",
       "      <td>1/2-1/2</td>\n",
       "      <td>slow</td>\n",
       "      <td>2380</td>\n",
       "      <td>2330</td>\n",
       "      <td>2355.0</td>\n",
       "      <td>50</td>\n",
       "      <td>25</td>\n",
       "      <td>C</td>\n",
       "      <td>1980</td>\n",
       "      <td>Prague</td>\n",
       "    </tr>\n",
       "    <tr>\n",
       "      <th>1</th>\n",
       "      <td>1/2-1/2</td>\n",
       "      <td>slow</td>\n",
       "      <td>2425</td>\n",
       "      <td>2545</td>\n",
       "      <td>2485.0</td>\n",
       "      <td>-120</td>\n",
       "      <td>104</td>\n",
       "      <td>E</td>\n",
       "      <td>1980</td>\n",
       "      <td>Prague</td>\n",
       "    </tr>\n",
       "    <tr>\n",
       "      <th>2</th>\n",
       "      <td>0-1</td>\n",
       "      <td>slow</td>\n",
       "      <td>2445</td>\n",
       "      <td>2410</td>\n",
       "      <td>2427.5</td>\n",
       "      <td>35</td>\n",
       "      <td>85</td>\n",
       "      <td>C</td>\n",
       "      <td>1980</td>\n",
       "      <td>Prague</td>\n",
       "    </tr>\n",
       "    <tr>\n",
       "      <th>3</th>\n",
       "      <td>0-1</td>\n",
       "      <td>slow</td>\n",
       "      <td>2435</td>\n",
       "      <td>2445</td>\n",
       "      <td>2440.0</td>\n",
       "      <td>-10</td>\n",
       "      <td>82</td>\n",
       "      <td>D</td>\n",
       "      <td>1980</td>\n",
       "      <td>Prague</td>\n",
       "    </tr>\n",
       "    <tr>\n",
       "      <th>4</th>\n",
       "      <td>1/2-1/2</td>\n",
       "      <td>slow</td>\n",
       "      <td>2410</td>\n",
       "      <td>2380</td>\n",
       "      <td>2395.0</td>\n",
       "      <td>30</td>\n",
       "      <td>16</td>\n",
       "      <td>A</td>\n",
       "      <td>1980</td>\n",
       "      <td>Prague</td>\n",
       "    </tr>\n",
       "  </tbody>\n",
       "</table>\n",
       "</div>"
      ],
      "text/plain": [
       "    result control  elo_white  elo_black  elo_average  elo_difference  length  \\\n",
       "0  1/2-1/2    slow       2380       2330       2355.0              50      25   \n",
       "1  1/2-1/2    slow       2425       2545       2485.0            -120     104   \n",
       "2      0-1    slow       2445       2410       2427.5              35      85   \n",
       "3      0-1    slow       2435       2445       2440.0             -10      82   \n",
       "4  1/2-1/2    slow       2410       2380       2395.0              30      16   \n",
       "\n",
       "  opening  date    site  \n",
       "0       C  1980  Prague  \n",
       "1       E  1980  Prague  \n",
       "2       C  1980  Prague  \n",
       "3       D  1980  Prague  \n",
       "4       A  1980  Prague  "
      ]
     },
     "execution_count": 9,
     "metadata": {},
     "output_type": "execute_result"
    }
   ],
   "source": [
    "slow.head()"
   ]
  },
  {
   "cell_type": "code",
   "execution_count": 129,
   "metadata": {
    "execution": {
     "iopub.execute_input": "2024-11-03T12:40:03.406677Z",
     "iopub.status.busy": "2024-11-03T12:40:03.406264Z",
     "iopub.status.idle": "2024-11-03T12:40:06.405716Z",
     "shell.execute_reply": "2024-11-03T12:40:06.404576Z",
     "shell.execute_reply.started": "2024-11-03T12:40:03.406635Z"
    }
   },
   "outputs": [
    {
     "data": {
      "image/png": "[encoded data removed]",
      "text/plain": [
       "<Figure size 800x1200 with 3 Axes>"
      ]
     },
     "metadata": {},
     "output_type": "display_data"
    }
   ],
   "source": [
    "fig, axs = plt.subplots(3, 1, figsize=(8, 12))\n",
    "\n",
    "axs[0].set_title('Distribution of game\\'s averaged elo in slow format')\n",
    "axs[1].set_title('Distribution of game\\'s averaged elo in rapid format')\n",
    "axs[2].set_title('Distribution of game\\'s averaged elo in blitz format')\n",
    "\n",
    "axs[0].hist(slow['elo_average'], bins=100, color='blue', alpha=0.7)\n",
    "axs[0].set_xlabel('Average ELO Rating')\n",
    "axs[0].set_ylabel('Number of Games')\n",
    "\n",
    "axs[1].hist(rapid['elo_average'], bins=100, color='blue', alpha=0.7)\n",
    "axs[1].set_xlabel('Average ELO Rating')\n",
    "axs[1].set_ylabel('Number of Games')\n",
    "\n",
    "axs[2].hist(blitz['elo_average'], bins=100, color='blue', alpha=0.7)\n",
    "axs[2].set_xlabel('Average ELO Rating')\n",
    "axs[2].set_ylabel('Number of Games')\n",
    "\n",
    "plt.tight_layout()\n",
    "plt.show()"
   ]
  },
  {
   "cell_type": "code",
   "execution_count": 20,
   "metadata": {
    "execution": {
     "iopub.execute_input": "2024-11-03T12:40:06.407840Z",
     "iopub.status.busy": "2024-11-03T12:40:06.407355Z",
     "iopub.status.idle": "2024-11-03T12:40:13.210056Z",
     "shell.execute_reply": "2024-11-03T12:40:13.208818Z",
     "shell.execute_reply.started": "2024-11-03T12:40:06.407780Z"
    }
   },
   "outputs": [
    {
     "data": {
      "image/png": "[encoded data removed]",
      "text/plain": [
       "<Figure size 800x1200 with 3 Axes>"
      ]
     },
     "metadata": {},
     "output_type": "display_data"
    }
   ],
   "source": [
    "fig, axs = plt.subplots(3, 1, figsize=(8, 12))\n",
    "\n",
    "axs[0].set_title('Distribution of game lengths in slow format')\n",
    "axs[1].set_title('Distribution of game lengths in rapid format')\n",
    "axs[2].set_title('Distribution of game lengths in blitz format')\n",
    "\n",
    "axs[0].hist(slow['length'], bins=100, color='blue', alpha=0.7)\n",
    "axs[0].set_xlabel('length')\n",
    "axs[0].set_ylabel('Number of Games')\n",
    "\n",
    "axs[1].hist(rapid['length'], bins=100, color='blue', alpha=0.7)\n",
    "axs[0].set_xlabel('length')\n",
    "axs[0].set_ylabel('Number of Games')\n",
    "\n",
    "axs[2].hist(blitz['length'], bins=100, color='blue', alpha=0.7)\n",
    "axs[0].set_xlabel('length')\n",
    "axs[0].set_ylabel('Number of Games')\n",
    "\n",
    "plt.tight_layout()\n",
    "plt.show()"
   ]
  },
  {
   "cell_type": "markdown",
   "metadata": {},
   "source": [
    "# Задачи"
   ]
  },
  {
   "cell_type": "markdown",
   "metadata": {
    "execution": {
     "iopub.execute_input": "2024-10-30T19:32:37.350608Z",
     "iopub.status.busy": "2024-10-30T19:32:37.350060Z",
     "iopub.status.idle": "2024-10-30T19:32:37.394196Z",
     "shell.execute_reply": "2024-10-30T19:32:37.393018Z",
     "shell.execute_reply.started": "2024-10-30T19:32:37.350501Z"
    }
   },
   "source": [
    "## Разминка. Проверка гипотез о средних (5 баллов)"
   ]
  },
  {
   "cell_type": "markdown",
   "metadata": {},
   "source": [
    "### Взгляд в прошлое. Рейтинг игр в Праге. (2 балла)\n",
    "Пусть $X_1, \\ldots, X_n \\overset{\\text{i.i.d}}{\\sim} X$ --- выборка из некоторого распределения. Вспомните как строится асимптотический доверительный интервал для $\\mathbb{E}[X]$, и, используя асимптотический z-test проверьте на уровне значимости $\\alpha = 0.05$ гипотезу о том что математическое ожидание рейтинга партии равно 2389:\n",
    "$$\n",
    "    H_0 : \\mathbb{E}[X] = 2389 \\\\\n",
    "    H_1 : \\mathbb{E}[X] \\neq 2389\n",
    "$$\n",
    "для игр, сыгранных в Праге за период 1980-1989 г."
   ]
  },
  {
   "cell_type": "markdown",
   "metadata": {},
   "source": [
    "#### 1. Асимптотический доверительный интервал\n",
    "\n",
    "Асимптотический доверительный интервал строится по формуле:\n",
    "$$\n",
    "\\bar{X} \\pm z_{\\frac{\\alpha}{2}} \\cdot \\frac{S}{\\sqrt{n}}\n",
    "$$\n",
    "где:\n",
    "  $$\n",
    "  \\bar{X} = \\frac{1}{n} \\sum_{i=1}^{n} X_i\n",
    "  $$\n",
    "\n",
    "  $$\n",
    "  S = \\sqrt{\\frac{1}{n - 1} \\sum_{i=1}^{n} (X_i - \\bar{X})^2}\n",
    "  $$\n",
    "\n",
    "#### 2. Асимптотический z-тест\n",
    "\n",
    "Для проверки гипотезы используется следующая статистика:\n",
    "$$\n",
    "z = \\frac{\\bar{X} - \\mu_0}{\\frac{S}{\\sqrt{n}}}\n",
    "= \\frac{{\\frac{1}{n} \\sum_{i=1}^{n} X_i} - 2389}{\\frac{\\sqrt{\\frac{1}{n - 1} \\sum_{i=1}^{n} (X_i - \\bar{X})^2}}{\\sqrt{n}}}\n",
    "$$\n"
   ]
  },
  {
   "cell_type": "code",
   "execution_count": 85,
   "metadata": {
    "execution": {
     "iopub.execute_input": "2024-11-03T12:40:13.212605Z",
     "iopub.status.busy": "2024-11-03T12:40:13.212115Z",
     "iopub.status.idle": "2024-11-03T12:40:13.224313Z",
     "shell.execute_reply": "2024-11-03T12:40:13.223219Z",
     "shell.execute_reply.started": "2024-11-03T12:40:13.212551Z"
    }
   },
   "outputs": [],
   "source": [
    "from numpy.typing import ArrayLike\n",
    "from typing import Tuple, Optional, Literal\n",
    "\n",
    "hypothesis_side = Literal[\"both\", \"left\", \"right\"]\n",
    "\n",
    "\n",
    "class StatTestResult:\n",
    "    \"\"\"\n",
    "    Wrapper that carries information about performed statistical test. \n",
    "    \n",
    "    Attributes\n",
    "    ----------\n",
    "    statistics : float\n",
    "        value of the test's statistics.\n",
    "    p_value : float\n",
    "        obtained p-value for the test's statistics.\n",
    "    significance : float\n",
    "        significance level for the performed test\n",
    "    critical_value : float\n",
    "        critical value of the test's statistics for the given significance level \n",
    "    test_name : str\n",
    "        name of the test\n",
    "    null_name: str\n",
    "        formulation of the null hypothesis\n",
    "    alternative_name : str\n",
    "        formulation of the alternative hypothesis\n",
    "    verdict: \n",
    "        test's verdict\n",
    "    \"\"\"\n",
    "    def __init__(self, statistics : float, p_value : float, significance : float, critical_value : float,\\\n",
    "                        test_name : str, null_name : str, alternative_name : str):\n",
    "        self.statistics = statistics\n",
    "        self.p_value = p_value\n",
    "        self.significance = significance\n",
    "        self.critical_value = critical_value\n",
    "        self.name = test_name\n",
    "        self.null = null_name\n",
    "        self.alternative = alternative_name\n",
    "        \n",
    "        if self.p_value < self.significance:\n",
    "            self.verdict = f\"Reject H0 at significance level {significance}\"\n",
    "        else:\n",
    "            self.verdict = f\"Accept H0 at significance level {significance}\"\n",
    "\n",
    "    def __repr__(self):\n",
    "        return f\"\"\"\n",
    "        {self.name}. \n",
    "        H0: {self.null}\n",
    "        H1: {self.alternative}\n",
    "        ===================================\n",
    "        Statistics value: {self.statistics}. Critical value: {self.critical_value}\n",
    "        P-value: {self.p_value}, \n",
    "        Verdict: {self.verdict}\n",
    "        \"\"\"\n",
    "    def __str__(self):\n",
    "        return f\"Statistics: {self.statistics}, P-value: {self.p_value}\""
   ]
  },
  {
   "cell_type": "code",
   "execution_count": 107,
   "metadata": {
    "execution": {
     "iopub.execute_input": "2024-11-03T12:40:13.226693Z",
     "iopub.status.busy": "2024-11-03T12:40:13.226245Z",
     "iopub.status.idle": "2024-11-03T12:40:13.240006Z",
     "shell.execute_reply": "2024-11-03T12:40:13.238730Z",
     "shell.execute_reply.started": "2024-11-03T12:40:13.226652Z"
    }
   },
   "outputs": [],
   "source": [
    "import numpy as np\n",
    "from scipy.stats import norm\n",
    "\n",
    "def z_test_one_sample(sample : ArrayLike, null_mean : float,\n",
    "                      significance : float = 0.05, tail : hypothesis_side = 'both') -> StatTestResult:\n",
    "    \"\"\"\n",
    "        Performs asymptotic z-test for the one sample\n",
    "        \n",
    "        Parameters\n",
    "        ----------\n",
    "        sample : ArrayLike\n",
    "            sample on which z-test will be performed \n",
    "        null_mean : float\n",
    "            value of mean under null hypothesis.\n",
    "        significance : float\n",
    "            significance level for the performed test\n",
    "        tail : Literal[\"both\", \"left\", \"right\"]\n",
    "            alternative side\n",
    "            \n",
    "        Returns\n",
    "        -------\n",
    "        res : StatTestResult\n",
    "            An object containing infomration about test results\n",
    "    \"\"\"\n",
    "    sample_mean = np.mean(sample)\n",
    "    sample_std = np.std(sample)\n",
    "    n = sample.shape[0]\n",
    "    z = np.sqrt(n) * (sample_mean - null_mean) / sample_std\n",
    "    \n",
    "    if tail == 'both':\n",
    "        critical_value = norm.ppf(1 - significance / 2)\n",
    "        p_value = 2 * (1 - norm.cdf(abs(z)))\n",
    "    elif tail == 'right':\n",
    "        critical_value = norm.ppf(1 - significance)\n",
    "        p_value = 1 - norm.cdf(z)\n",
    "    elif tail == 'left':\n",
    "        critical_value = norm.ppf(significance)\n",
    "        p_value = norm.cdf(z)\n",
    "    \n",
    "    return StatTestResult(\n",
    "        statistics=z,\n",
    "        p_value=p_value,\n",
    "        significance=significance,\n",
    "        critical_value=critical_value,\n",
    "        test_name=\"One-sample z-test\",\n",
    "        null_name=f\"Mean = {null_mean}\",\n",
    "        alternative_name=f\"Mean != {null_mean}\" if tail == 'both' else f\"Mean {'>' if tail == 'right' else '<'} {null_mean}\"\n",
    "    )\n"
   ]
  },
  {
   "cell_type": "code",
   "execution_count": 108,
   "metadata": {},
   "outputs": [
    {
     "data": {
      "text/html": [
       "<div>\n",
       "<style scoped>\n",
       "    .dataframe tbody tr th:only-of-type {\n",
       "        vertical-align: middle;\n",
       "    }\n",
       "\n",
       "    .dataframe tbody tr th {\n",
       "        vertical-align: top;\n",
       "    }\n",
       "\n",
       "    .dataframe thead th {\n",
       "        text-align: right;\n",
       "    }\n",
       "</style>\n",
       "<table border=\"1\" class=\"dataframe\">\n",
       "  <thead>\n",
       "    <tr style=\"text-align: right;\">\n",
       "      <th></th>\n",
       "      <th>result</th>\n",
       "      <th>control</th>\n",
       "      <th>elo_white</th>\n",
       "      <th>elo_black</th>\n",
       "      <th>elo_average</th>\n",
       "      <th>elo_difference</th>\n",
       "      <th>length</th>\n",
       "      <th>opening</th>\n",
       "      <th>date</th>\n",
       "      <th>site</th>\n",
       "    </tr>\n",
       "  </thead>\n",
       "  <tbody>\n",
       "    <tr>\n",
       "      <th>0</th>\n",
       "      <td>1/2-1/2</td>\n",
       "      <td>slow</td>\n",
       "      <td>2380</td>\n",
       "      <td>2330</td>\n",
       "      <td>2355.0</td>\n",
       "      <td>50</td>\n",
       "      <td>25</td>\n",
       "      <td>C</td>\n",
       "      <td>1980</td>\n",
       "      <td>Prague</td>\n",
       "    </tr>\n",
       "    <tr>\n",
       "      <th>1</th>\n",
       "      <td>1/2-1/2</td>\n",
       "      <td>slow</td>\n",
       "      <td>2425</td>\n",
       "      <td>2545</td>\n",
       "      <td>2485.0</td>\n",
       "      <td>-120</td>\n",
       "      <td>104</td>\n",
       "      <td>E</td>\n",
       "      <td>1980</td>\n",
       "      <td>Prague</td>\n",
       "    </tr>\n",
       "    <tr>\n",
       "      <th>2</th>\n",
       "      <td>0-1</td>\n",
       "      <td>slow</td>\n",
       "      <td>2445</td>\n",
       "      <td>2410</td>\n",
       "      <td>2427.5</td>\n",
       "      <td>35</td>\n",
       "      <td>85</td>\n",
       "      <td>C</td>\n",
       "      <td>1980</td>\n",
       "      <td>Prague</td>\n",
       "    </tr>\n",
       "    <tr>\n",
       "      <th>3</th>\n",
       "      <td>0-1</td>\n",
       "      <td>slow</td>\n",
       "      <td>2435</td>\n",
       "      <td>2445</td>\n",
       "      <td>2440.0</td>\n",
       "      <td>-10</td>\n",
       "      <td>82</td>\n",
       "      <td>D</td>\n",
       "      <td>1980</td>\n",
       "      <td>Prague</td>\n",
       "    </tr>\n",
       "    <tr>\n",
       "      <th>4</th>\n",
       "      <td>1/2-1/2</td>\n",
       "      <td>slow</td>\n",
       "      <td>2410</td>\n",
       "      <td>2380</td>\n",
       "      <td>2395.0</td>\n",
       "      <td>30</td>\n",
       "      <td>16</td>\n",
       "      <td>A</td>\n",
       "      <td>1980</td>\n",
       "      <td>Prague</td>\n",
       "    </tr>\n",
       "  </tbody>\n",
       "</table>\n",
       "</div>"
      ],
      "text/plain": [
       "    result control  elo_white  elo_black  elo_average  elo_difference  length  \\\n",
       "0  1/2-1/2    slow       2380       2330       2355.0              50      25   \n",
       "1  1/2-1/2    slow       2425       2545       2485.0            -120     104   \n",
       "2      0-1    slow       2445       2410       2427.5              35      85   \n",
       "3      0-1    slow       2435       2445       2440.0             -10      82   \n",
       "4  1/2-1/2    slow       2410       2380       2395.0              30      16   \n",
       "\n",
       "  opening  date    site  \n",
       "0       C  1980  Prague  \n",
       "1       E  1980  Prague  \n",
       "2       C  1980  Prague  \n",
       "3       D  1980  Prague  \n",
       "4       A  1980  Prague  "
      ]
     },
     "execution_count": 108,
     "metadata": {},
     "output_type": "execute_result"
    }
   ],
   "source": [
    "games_df.head()"
   ]
  },
  {
   "cell_type": "code",
   "execution_count": 109,
   "metadata": {},
   "outputs": [
    {
     "data": {
      "text/plain": [
       "\n",
       "        One-sample z-test. \n",
       "        H0: Mean = 2389\n",
       "        H1: Mean != 2389\n",
       "        ===================================\n",
       "        Statistics value: 0.05031134538441058. Critical value: 1.959963984540054\n",
       "        P-value: 0.9598742829112306, \n",
       "        Verdict: Accept H0 at significance level 0.05\n",
       "        "
      ]
     },
     "execution_count": 109,
     "metadata": {},
     "output_type": "execute_result"
    }
   ],
   "source": [
    "data = games_df['elo_average'][(1980 <= games_df['date']) & (games_df['date'] <= 1989) & (games_df['site'] == \"Prague\")]\n",
    "z_test_one_sample(sample=data, null_mean=2389)"
   ]
  },
  {
   "cell_type": "markdown",
   "metadata": {},
   "source": [
    "### Назад в будущее. Рейтинг игр в Москве. (3 балла)\n",
    "После того как вы проверили эту гипотезу, проверьте гипотезу о том, что средний рейтинг классических партий проводимых в Москве в 2010-2019 годах выше, чем рейтинг в 2000-2009 годах. Вспомните как устроен z-тест для двух выборок и \n",
    "\n",
    "1. сформулируйте нулевую гипотезу и альтернативу;\n",
    "2. укажите статистику и её распределение при верной нулевой гипотезе;\n",
    "3. реализуйте тест и проверьте гипотезу на уровне значимости 0.05;"
   ]
  },
  {
   "cell_type": "markdown",
   "metadata": {},
   "source": [
    "$$ z = \\frac{(\\bar{x} - \\bar{y}) - \\Delta_0}{\\sqrt{\\frac{\\sigma_x^2}{n_x} + \\frac{\\sigma_y^2}{n_y}}} $$"
   ]
  },
  {
   "cell_type": "code",
   "execution_count": 119,
   "metadata": {
    "execution": {
     "iopub.execute_input": "2024-11-03T12:40:14.326650Z",
     "iopub.status.busy": "2024-11-03T12:40:14.326239Z",
     "iopub.status.idle": "2024-11-03T12:40:14.341035Z",
     "shell.execute_reply": "2024-11-03T12:40:14.339868Z",
     "shell.execute_reply.started": "2024-11-03T12:40:14.326609Z"
    }
   },
   "outputs": [],
   "source": [
    "def z_test_two_sample(sample_x : ArrayLike, sample_y : ArrayLike, null_mean_diff : float = 0,\n",
    "                      significance : float = 0.05, tail : hypothesis_side = 'right') -> StatTestResult:\n",
    "    \"\"\"\n",
    "        Performs asymptotic z-test for the two samples\n",
    "        \n",
    "        Parameters\n",
    "        ----------\n",
    "        sample_x : ArrayLike\n",
    "            first sample for the z-test \n",
    "        sample_y : ArrayLike\n",
    "            second sample for the z-test\n",
    "        null_mean_diff : float\n",
    "            differences of means under null hypothesis.\n",
    "        significance : float\n",
    "            significance level for the performed test\n",
    "        tail : Literal[\"both\", \"left\", \"right\"]\n",
    "            alternative side\n",
    "            \n",
    "        Returns\n",
    "        -------\n",
    "        res : StatTestResult\n",
    "            An object containing infomration about test results\n",
    "    \"\"\"\n",
    "    \n",
    "    n = len(sample_x)\n",
    "    m = len(sample_y)\n",
    "    \n",
    "    mean_x = np.mean(sample_x)\n",
    "    mean_y = np.mean(sample_y)\n",
    "    \n",
    "    std_x = np.std(sample_x) ** 2\n",
    "    std_y = np.std(sample_y) ** 2\n",
    "    \n",
    "    sigma = np.sqrt(std_x / n + std_y / m)\n",
    "    \n",
    "    z = (mean_x - mean_y) / sigma\n",
    "    \n",
    "    if tail == 'both':\n",
    "        critical_value = norm.ppf(1 - significance / 2)\n",
    "        p_value = 2 * (1 - norm.cdf(abs(z)))\n",
    "    elif tail == 'right':\n",
    "        critical_value = norm.ppf(1 - significance)\n",
    "        p_value = 1 - norm.cdf(z)\n",
    "    elif tail == 'left':\n",
    "        critical_value = norm.ppf(significance)\n",
    "        p_value = norm.cdf(z)\n",
    "    \n",
    "    return StatTestResult(\n",
    "        statistics=z,\n",
    "        p_value=p_value,\n",
    "        significance=significance,\n",
    "        critical_value=critical_value,\n",
    "        test_name=\"Two-sample z-test\",\n",
    "        null_name=f\"Mean difference = {null_mean_diff}\",\n",
    "        alternative_name=f\"Mean difference {'>' if tail == 'right' else '<'} {null_mean_diff}\"\n",
    "    )"
   ]
  },
  {
   "cell_type": "code",
   "execution_count": 368,
   "metadata": {},
   "outputs": [
    {
     "data": {
      "text/plain": [
       "\n",
       "        Two-sample z-test. \n",
       "        H0: Mean difference = 0\n",
       "        H1: Mean difference > 0\n",
       "        ===================================\n",
       "        Statistics value: -16.457647025505345. Critical value: 1.644853626951472\n",
       "        P-value: 1.0, \n",
       "        Verdict: Accept H0 at significance level 0.05\n",
       "        "
      ]
     },
     "execution_count": 368,
     "metadata": {},
     "output_type": "execute_result"
    }
   ],
   "source": [
    "data_x = slow['elo_average'][(2010 <= slow['date']) & (slow['date'] <= 2019) & (slow['site'] == \"Moscow\")]\n",
    "data_y = slow['elo_average'][(2000 <= slow['date']) & (slow['date'] <= 2009) & (slow['site'] == \"Moscow\")]\n",
    "z_test_two_sample(data_x, data_y)"
   ]
  },
  {
   "cell_type": "code",
   "execution_count": 120,
   "metadata": {
    "execution": {
     "iopub.execute_input": "2024-11-03T12:40:14.342912Z",
     "iopub.status.busy": "2024-11-03T12:40:14.342537Z",
     "iopub.status.idle": "2024-11-03T12:40:16.423614Z",
     "shell.execute_reply": "2024-11-03T12:40:16.422563Z",
     "shell.execute_reply.started": "2024-11-03T12:40:14.342875Z"
    }
   },
   "outputs": [
    {
     "data": {
      "text/plain": [
       "\n",
       "        Two-sample z-test. \n",
       "        H0: Mean difference = 0\n",
       "        H1: Mean difference > 0\n",
       "        ===================================\n",
       "        Statistics value: -5.563253602262303. Critical value: 1.644853626951472\n",
       "        P-value: 0.9999999867604678, \n",
       "        Verdict: Accept H0 at significance level 0.05\n",
       "        "
      ]
     },
     "execution_count": 120,
     "metadata": {},
     "output_type": "execute_result"
    }
   ],
   "source": [
    "data_x = games_df['elo_average'][(2010 <= games_df['date']) & (games_df['date'] <= 2019) & (games_df['site'] == \"Moscow\")]\n",
    "data_y = games_df['elo_average'][(2000 <= games_df['date']) & (games_df['date'] <= 2009) & (games_df['site'] == \"Moscow\")]\n",
    "z_test_two_sample(data_x, data_y)"
   ]
  },
  {
   "cell_type": "markdown",
   "metadata": {},
   "source": [
    "## Задача 1. Инфляция рейтинга (5 баллов)\n",
    "\n",
    "В течение времени правила подсчета рейтинга менялись. Для сравнения возьмем партии в классическом временном контроле и их рейтинги за периоды 2000-2009 года и 2010-2019 год. Нарисуйте гистограммы, которые описывают распределение усредненных рейтингов оппонентов в партиях за эти периоды."
   ]
  },
  {
   "cell_type": "code",
   "execution_count": 122,
   "metadata": {
    "execution": {
     "iopub.execute_input": "2024-11-03T12:40:16.425589Z",
     "iopub.status.busy": "2024-11-03T12:40:16.425072Z",
     "iopub.status.idle": "2024-11-03T12:40:19.113638Z",
     "shell.execute_reply": "2024-11-03T12:40:19.112343Z",
     "shell.execute_reply.started": "2024-11-03T12:40:16.425546Z"
    }
   },
   "outputs": [
    {
     "data": {
      "image/png": "[encoded data removed]",
      "text/plain": [
       "<Figure size 1000x800 with 2 Axes>"
      ]
     },
     "metadata": {},
     "output_type": "display_data"
    }
   ],
   "source": [
    "fig, axs = plt.subplots(2, 1, figsize = (10, 8))\n",
    "\n",
    "axs[0].set_title('Distribution of game\\'s averaged elo in slow format between 2000 and 2009')\n",
    "axs[1].set_title('Distribution of game\\'s averaged elo in slow format between 2010 and 2019')\n",
    "\n",
    "axs[0].hist(slow['elo_average'][(2000 <= games_df['date']) & (games_df['date'] <= 2009)], bins=100, color='blue', alpha=0.7)\n",
    "axs[0].set_xlabel('Average ELO Rating')\n",
    "axs[0].set_ylabel('Number of Games')\n",
    "\n",
    "axs[1].hist(slow['elo_average'][(2010 <= games_df['date']) & (games_df['date'] <= 2019)], bins=100, color='blue', alpha=0.7)\n",
    "axs[0].set_xlabel('Average ELO Rating')\n",
    "axs[0].set_ylabel('Number of Games')\n",
    "\n",
    "plt.tight_layout()\n",
    "plt.show()"
   ]
  },
  {
   "cell_type": "markdown",
   "metadata": {},
   "source": [
    "Распространено мнение, что в силу изменений правил подсчета, высокий рейтинг стало получить легче --- произошла инфляция рейтинга. Проверьте, так ли это на самом деле, с помощью рангового критерия [Уилкоксона-Манна-Уитни](http://www.machinelearning.ru/wiki/index.php?title=Критерий_Уилкоксона-Манна-Уитни). В качестве распределения статистики можете брать подходящую аппроксимацию нормальным распределением с поправкой на повторяющиеся значения. Как и ранее,\n",
    "1. сформулируйте нулевую гипотезу и альтернативу; объясните смысл математической формулировки нулевой гипотезы;\n",
    "2. укажите статистику и её распределение при верной нулевой гипотезе;\n",
    "3. реализуйте тест и проверьте гипотезу на уровне значимости 0.05;"
   ]
  },
  {
   "cell_type": "markdown",
   "metadata": {},
   "source": [
    "\n",
    "$ U_X = R_X - \\frac{n_X(n_X + 1)}{2}$\n",
    "\n",
    "$ \\mu_U = \\frac{n_X \\cdot n_Y}{2}$\n",
    "\n",
    "$ \\sigma_U = \\sqrt{\\frac{n_X \\cdot n_Y \\cdot (n_X + n_Y + 1)}{12}} $\n",
    "\n",
    "$$\\Longrightarrow Z = \\frac{U_X - \\mu_U}{\\sigma_U} $$\n"
   ]
  },
  {
   "cell_type": "code",
   "execution_count": 127,
   "metadata": {
    "execution": {
     "iopub.execute_input": "2024-11-03T12:40:19.115795Z",
     "iopub.status.busy": "2024-11-03T12:40:19.115315Z",
     "iopub.status.idle": "2024-11-03T12:40:19.134000Z",
     "shell.execute_reply": "2024-11-03T12:40:19.132720Z",
     "shell.execute_reply.started": "2024-11-03T12:40:19.115742Z"
    }
   },
   "outputs": [],
   "source": [
    "from scipy.stats import rankdata # this can help. See docs.\n",
    "\n",
    "def mwu_test(sample_x : ArrayLike, sample_y : ArrayLike, significance : float = 0.05, tail : hypothesis_side = 'right') -> StatTestResult:\n",
    "    \"\"\"        \n",
    "        Performs Mann–Whitney U-test with correct support for ties in the data. \n",
    "        REMARK: Test uses normal approximation for the distribution of test statistics\n",
    "                under null hypothesis.\n",
    "    \n",
    "        Parameters\n",
    "        ----------\n",
    "        sample_x : ArrayLike\n",
    "            first sample for the U-test \n",
    "        sample_y : ArrayLike\n",
    "            second sample for the U-test\n",
    "        significance : float\n",
    "            significance level for the performed test\n",
    "        tail : Literal[\"both\", \"left\", \"right\"]\n",
    "            alternative side\n",
    "            \n",
    "        Returns\n",
    "        -------\n",
    "        res : StatTestResult\n",
    "            An object containing infomration about test results\n",
    "    \"\"\"\n",
    "    \n",
    "    n_x = len(sample_x)\n",
    "    n_y = len(sample_y)\n",
    "    \n",
    "    combined = np.concatenate([sample_x, sample_y])\n",
    "    ranks = rankdata(combined)\n",
    "    \n",
    "    rank_x = ranks[:n_x]\n",
    "    U_x = np.sum(rank_x) - n_x * (n_x + 1) / 2\n",
    "    \n",
    "    U_mean = n_x * n_y / 2\n",
    "    U_std = np.sqrt(n_x * n_y * (n_x + n_y + 1) / 12)\n",
    "    \n",
    "    z = (U_x - U_mean) / U_std\n",
    "    \n",
    "    if tail == 'both':\n",
    "        critical_value = norm.ppf(1 - significance / 2)\n",
    "        p_value = 2 * (1 - norm.cdf(abs(z)))\n",
    "    elif tail == 'right':\n",
    "        critical_value = norm.ppf(1 - significance)\n",
    "        p_value = 1 - norm.cdf(z)\n",
    "    elif tail == 'left':\n",
    "        critical_value = norm.ppf(significance)\n",
    "        p_value = norm.cdf(z)\n",
    "    \n",
    "    return StatTestResult(\n",
    "        statistics=z,\n",
    "        p_value=p_value,\n",
    "        significance=significance,\n",
    "        critical_value=critical_value,\n",
    "        test_name=\"Mann-Whitney U-test\",\n",
    "        null_name=\"не произошла инфляция рейтинга\",\n",
    "        alternative_name=\"произошла инфляция рейтинга\"\n",
    "    )\n",
    "    "
   ]
  },
  {
   "cell_type": "code",
   "execution_count": 128,
   "metadata": {
    "execution": {
     "iopub.execute_input": "2024-11-03T12:40:19.136143Z",
     "iopub.status.busy": "2024-11-03T12:40:19.135659Z",
     "iopub.status.idle": "2024-11-03T12:40:20.403668Z",
     "shell.execute_reply": "2024-11-03T12:40:20.402464Z",
     "shell.execute_reply.started": "2024-11-03T12:40:19.136070Z"
    }
   },
   "outputs": [
    {
     "data": {
      "text/plain": [
       "\n",
       "        Mann-Whitney U-test. \n",
       "        H0: не произошла инфляция рейтинга\n",
       "        H1: произошла инфляция рейтинга\n",
       "        ===================================\n",
       "        Statistics value: -286.6155478079176. Critical value: 1.644853626951472\n",
       "        P-value: 1.0, \n",
       "        Verdict: Accept H0 at significance level 0.05\n",
       "        "
      ]
     },
     "execution_count": 128,
     "metadata": {},
     "output_type": "execute_result"
    }
   ],
   "source": [
    "data_x = games_df['elo_average'][(2010 <= games_df['date']) & (games_df['date'] <= 2019)]\n",
    "data_y = games_df['elo_average'][(2000 <= games_df['date']) & (games_df['date'] <= 2009)]\n",
    "mwu_test(data_x, data_y)"
   ]
  },
  {
   "cell_type": "markdown",
   "metadata": {},
   "source": [
    "## Задача 2. Рейтинги и исход партий (7.5 баллов)"
   ]
  },
  {
   "cell_type": "markdown",
   "metadata": {},
   "source": [
    "Исследуйте как, в зависимости от рейтинга участников, меняется распределение исхода партии. Мы предлагаем вам изучить как\n",
    "- Разница в рейтинге влияет на шансы на результативный исход (победа одной из сторон)\n",
    "- С ростом среднего рейтинга участников меняются шансы на победу"
   ]
  },
  {
   "cell_type": "markdown",
   "metadata": {},
   "source": [
    "### Разрыв рейтинга и шансы на победу (5 баллов)"
   ]
  },
  {
   "cell_type": "markdown",
   "metadata": {},
   "source": [
    "Нарисуйте гистограммы, показывающее как устроены исходы партий в зависимости от разницы в рейтинге для партий в разных формах временного контролля. "
   ]
  },
  {
   "cell_type": "code",
   "execution_count": 190,
   "metadata": {
    "execution": {
     "iopub.execute_input": "2024-11-03T12:40:20.405359Z",
     "iopub.status.busy": "2024-11-03T12:40:20.405031Z",
     "iopub.status.idle": "2024-11-03T12:40:36.109777Z",
     "shell.execute_reply": "2024-11-03T12:40:36.108604Z",
     "shell.execute_reply.started": "2024-11-03T12:40:20.405323Z"
    }
   },
   "outputs": [
    {
     "data": {
      "image/png": "[encoded data removed]",
      "text/plain": [
       "<Figure size 800x1600 with 3 Axes>"
      ]
     },
     "metadata": {},
     "output_type": "display_data"
    }
   ],
   "source": [
    "fig, axs = plt.subplots(3, 1, figsize=(8, 16))\n",
    "\n",
    "axs[0].set_title('Distribution of game\\'s elo difference relatively to result in slow format')\n",
    "axs[1].set_title('Distribution of game\\'s elo difference relatively to result in rapid format')\n",
    "axs[2].set_title('Distribution of game\\'s elo difference relatively to result in blitz format')\n",
    "\n",
    "sns.boxplot(x='result', y='elo_difference', data=slow, ax=axs[0])\n",
    "axs[0].set_xlabel('result')\n",
    "axs[0].set_ylabel('elo_difference')\n",
    "\n",
    "sns.boxplot(x='result', y='elo_difference', data=rapid, ax=axs[1])\n",
    "axs[1].set_xlabel('result')\n",
    "axs[1].set_ylabel('elo_difference')\n",
    "\n",
    "sns.boxplot(x='result', y='elo_difference', data=blitz, ax=axs[2])\n",
    "axs[2].set_xlabel('result')\n",
    "axs[2].set_ylabel('elo_difference')\n",
    "\n",
    "plt.tight_layout()\n",
    "plt.show()"
   ]
  },
  {
   "cell_type": "markdown",
   "metadata": {},
   "source": [
    "Проверьте гипотезу \"симметрии\":\n",
    "> Правда ли что шансы победы белых при разрыве рейтинга между участниками в $X$ пунктов такие же, как шансы на победу чёрных при разрыве рейтинга в $-X$ пунктов?\n",
    "\n",
    "Для проверки такой гипотезы будем использовать критерий $\\chi^2$ для проверки независимости факторов. \n",
    "- Подумайте, как должна выглядеть факторная таблица в этом случае?\n",
    "- Сформулируйте как интерпретировать нулевую гипотезу критерия $\\chi^2$ в контексте проверяемой нами гипотезы.\n",
    "- Реализуйте проверку гипотезы. "
   ]
  },
  {
   "cell_type": "markdown",
   "metadata": {},
   "source": [
    "Строим факторную таблицу\n",
    "\n",
    "| Разница  | Победа белых 1-0 | Победа чёрных 0-1 | Ничейный исход 1/2-1/2|\n",
    "|----------|--------|--------|------|\n",
    "| $X$      | 1-0      | 0-1      | 1/2-1/2    |\n",
    "| $-X$     | 1-0      | 0-1      | 1/2-1/2    |\n",
    "\n",
    "Формула для расчета ожидаемых частот:\n",
    "\n",
    "$$ E_{ij} = \\frac{(R_i \\times C_j)}{N} $$\n",
    "\n",
    "хи-квадрат:\n",
    "$$ \\chi^2 = \\sum \\frac{(O_{ij} - E_{ij})^2}{E_{ij}} $$\n",
    "\n",
    "где $O$ — наблюдаемая частота, $E$ — ожидаемая частота.\n"
   ]
  },
  {
   "cell_type": "code",
   "execution_count": 391,
   "metadata": {
    "execution": {
     "iopub.execute_input": "2024-11-03T12:40:36.111778Z",
     "iopub.status.busy": "2024-11-03T12:40:36.111310Z",
     "iopub.status.idle": "2024-11-03T12:40:36.122487Z",
     "shell.execute_reply": "2024-11-03T12:40:36.121152Z",
     "shell.execute_reply.started": "2024-11-03T12:40:36.111726Z"
    }
   },
   "outputs": [],
   "source": [
    "from scipy.stats import chi2\n",
    "\n",
    "def chi2_contingency(observed : ArrayLike, significance : float = 0.05) -> StatTestResult:\n",
    "    \"\"\"\n",
    "        Performs chi-square independence test test for contingency table\n",
    "        \n",
    "        Parameters\n",
    "        ----------\n",
    "        observed : ArrayLike\n",
    "            contingency tablefor the test \n",
    "        significance : float\n",
    "            significance level for the performed test\n",
    "            \n",
    "        Returns\n",
    "        -------\n",
    "        res : StatTestResult\n",
    "            An object containing infomration about test results\n",
    "    \"\"\"\n",
    "    row_totals = observed.sum(axis=1)\n",
    "    col_totals = observed.sum(axis=0)\n",
    "    total = observed.sum()\n",
    "\n",
    "    expected = np.outer(row_totals, col_totals) / total\n",
    "    chi2_stat = ((observed - expected) ** 2 / expected).sum()\n",
    "    dof = (observed.shape[0] - 1) * (observed.shape[1] - 1)\n",
    "\n",
    "    p_value = 1 - chi2.cdf(chi2_stat, dof)\n",
    "\n",
    "    critical_value = chi2.ppf(1 - significance, dof)\n",
    "\n",
    "    return StatTestResult(\n",
    "        statistics=chi2_stat,\n",
    "        p_value=p_value,\n",
    "        significance=significance,\n",
    "        critical_value=critical_value,\n",
    "        test_name=\"Chi2\",\n",
    "        null_name=\"F[X] = F[Y]\",\n",
    "        alternative_name=\"F[X] != F[Y]\"\n",
    "    )"
   ]
  },
  {
   "cell_type": "markdown",
   "metadata": {},
   "source": [
    "Проверьте сформулированную выше гипотезу для ваших данных:"
   ]
  },
  {
   "cell_type": "code",
   "execution_count": 182,
   "metadata": {
    "execution": {
     "iopub.execute_input": "2024-11-03T12:40:39.116184Z",
     "iopub.status.busy": "2024-11-03T12:40:39.115790Z",
     "iopub.status.idle": "2024-11-03T12:40:39.170345Z",
     "shell.execute_reply": "2024-11-03T12:40:39.169169Z",
     "shell.execute_reply.started": "2024-11-03T12:40:39.116138Z"
    }
   },
   "outputs": [],
   "source": [
    "a = games_df[(games_df['result'] == \"1-0\") & (games_df['elo_difference'] >= 0)].shape[0]\n",
    "b = games_df[(games_df['result'] == \"0-1\") & (games_df['elo_difference'] >= 0)].shape[0]\n",
    "c = games_df[(games_df['result'] == \"1/2-1/2\") & (games_df['elo_difference'] >= 0)].shape[0]\n",
    "\n",
    "d = games_df[(games_df['result'] == \"1-0\") & (games_df['elo_difference'] < 0)].shape[0]\n",
    "e = games_df[(games_df['result'] == \"0-1\") & (games_df['elo_difference'] < 0)].shape[0]\n",
    "f = games_df[(games_df['result'] == \"1/2-1/2\") & (games_df['elo_difference'] < 0)].shape[0]"
   ]
  },
  {
   "cell_type": "code",
   "execution_count": 183,
   "metadata": {},
   "outputs": [
    {
     "data": {
      "text/plain": [
       "\n",
       "        Chi2. \n",
       "        H0: F[X] = F[Y]\n",
       "        H1: F[X] != F[Y]\n",
       "        ===================================\n",
       "        Statistics value: 972545.8683239025. Critical value: 5.99146454710798\n",
       "        P-value: 0.0, \n",
       "        Verdict: Reject H0 at significance level 0.05\n",
       "        "
      ]
     },
     "execution_count": 183,
     "metadata": {},
     "output_type": "execute_result"
    }
   ],
   "source": [
    "chi2_contingency(np.array([[a, b, c], [d, e, f]]))"
   ]
  },
  {
   "cell_type": "markdown",
   "metadata": {},
   "source": [
    "### Средний рейтинг и распределение исходов (2.5 балла)\n",
    "Существует распространеное мнение, что чем выше рейтинг участников партии, тем более вероятно, что итогом партии станет ничья. Постройте гистограммы показывающее как устроены исходы партий в зависимости от рейтинга партии (``elo_average``) для партий в разных формах временного контролля. "
   ]
  },
  {
   "cell_type": "code",
   "execution_count": 191,
   "metadata": {
    "execution": {
     "iopub.execute_input": "2024-11-03T12:40:39.172550Z",
     "iopub.status.busy": "2024-11-03T12:40:39.172084Z",
     "iopub.status.idle": "2024-11-03T12:40:54.986912Z",
     "shell.execute_reply": "2024-11-03T12:40:54.985575Z",
     "shell.execute_reply.started": "2024-11-03T12:40:39.172478Z"
    }
   },
   "outputs": [
    {
     "data": {
      "image/png": "[encoded data removed]",
      "text/plain": [
       "<Figure size 800x1600 with 3 Axes>"
      ]
     },
     "metadata": {},
     "output_type": "display_data"
    }
   ],
   "source": [
    "fig, axs = plt.subplots(3, 1, figsize=(8, 16))\n",
    "\n",
    "axs[0].set_title('Distribution of game\\'s averaged elo relatively to result in slow format')\n",
    "axs[1].set_title('Distribution of game\\'s averaged elo relatively to result in rapid format')\n",
    "axs[2].set_title('Distribution of game\\'s averaged elo relatively to result in blitz format')\n",
    "\n",
    "sns.boxplot(x='result', y='elo_average', data=slow, ax=axs[0])\n",
    "axs[0].set_xlabel('result')\n",
    "axs[0].set_ylabel('elo_difference')\n",
    "\n",
    "sns.boxplot(x='result', y='elo_average', data=rapid, ax=axs[1])\n",
    "axs[1].set_xlabel('result')\n",
    "axs[1].set_ylabel('elo_difference')\n",
    "\n",
    "sns.boxplot(x='result', y='elo_average', data=blitz, ax=axs[2])\n",
    "axs[2].set_xlabel('result')\n",
    "axs[2].set_ylabel('elo_difference')\n",
    "\n",
    "plt.tight_layout()\n",
    "plt.show()"
   ]
  },
  {
   "cell_type": "markdown",
   "metadata": {},
   "source": [
    "Согласно ChessBase, игроков можно условно делить на следующие категории, в зависимости от их рейтинга:\n",
    "- 0-1000 Begginer\n",
    "- 1000-1600 Average club player level\n",
    "- 1600-2100 Strong club player level\n",
    "- 2100-2300 International league player\n",
    "- 2300-2450 International Master (IM) level\n",
    "- 2450-2650 Grandmaster (GM) level\n",
    "- \\> 2650 Supergrandmaster, world champion level\n",
    "\n",
    "Вместо игроков, мы будем брать усредненный рейтинг оппонентов в партии и применять классификацию выше. С помощью статистических методов, проверьте влияет ли класс партии на распределение исходов. Используйте уже знакомый вам тест $\\chi^2$.\n",
    "- Подумайте, как должна выглядеть факторная таблица в этом случае?\n",
    "- Сформулируйте как интерпретировать нулевую гипотезу критерия $\\chi^2$ в контексте проверяемой нами гипотезы.\n",
    "- Реализуйте проверку гипотезы. "
   ]
  },
  {
   "cell_type": "markdown",
   "metadata": {
    "execution": {
     "iopub.execute_input": "2024-11-03T11:20:52.431379Z",
     "iopub.status.busy": "2024-11-03T11:20:52.430905Z",
     "iopub.status.idle": "2024-11-03T11:20:52.439254Z",
     "shell.execute_reply": "2024-11-03T11:20:52.437572Z",
     "shell.execute_reply.started": "2024-11-03T11:20:52.431324Z"
    }
   },
   "source": [
    "Стоим таблицу:\n",
    "| Класс партии          | 1-0 | 0-1 | 1/2-1/2 |\n",
    "|-----------------------|--------|-------|-----------|\n",
    "| Beginner              |        |       |           |\n",
    "| Average club player   |        |       |           |\n",
    "| Strong club player    |        |       |           |\n",
    "| International league  |        |       |           |\n",
    "| International Master  |        |       |           |\n",
    "| Grandmaster           |        |       |           |\n",
    "| Supergrandmaster      |        |       |           |\n",
    "\n",
    "Остальные действии аналогично предыдущему номер"
   ]
  },
  {
   "cell_type": "code",
   "execution_count": 194,
   "metadata": {
    "execution": {
     "iopub.execute_input": "2024-11-03T12:40:54.989069Z",
     "iopub.status.busy": "2024-11-03T12:40:54.988616Z",
     "iopub.status.idle": "2024-11-03T12:40:56.523247Z",
     "shell.execute_reply": "2024-11-03T12:40:56.521912Z",
     "shell.execute_reply.started": "2024-11-03T12:40:54.989011Z"
    }
   },
   "outputs": [
    {
     "data": {
      "text/html": [
       "<div>\n",
       "<style scoped>\n",
       "    .dataframe tbody tr th:only-of-type {\n",
       "        vertical-align: middle;\n",
       "    }\n",
       "\n",
       "    .dataframe tbody tr th {\n",
       "        vertical-align: top;\n",
       "    }\n",
       "\n",
       "    .dataframe thead th {\n",
       "        text-align: right;\n",
       "    }\n",
       "</style>\n",
       "<table border=\"1\" class=\"dataframe\">\n",
       "  <thead>\n",
       "    <tr style=\"text-align: right;\">\n",
       "      <th></th>\n",
       "      <th>result</th>\n",
       "      <th>control</th>\n",
       "      <th>elo_white</th>\n",
       "      <th>elo_black</th>\n",
       "      <th>elo_average</th>\n",
       "      <th>elo_difference</th>\n",
       "      <th>length</th>\n",
       "      <th>opening</th>\n",
       "      <th>date</th>\n",
       "      <th>site</th>\n",
       "      <th>category</th>\n",
       "    </tr>\n",
       "  </thead>\n",
       "  <tbody>\n",
       "    <tr>\n",
       "      <th>0</th>\n",
       "      <td>1/2-1/2</td>\n",
       "      <td>slow</td>\n",
       "      <td>2380</td>\n",
       "      <td>2330</td>\n",
       "      <td>2355.0</td>\n",
       "      <td>50</td>\n",
       "      <td>25</td>\n",
       "      <td>C</td>\n",
       "      <td>1980</td>\n",
       "      <td>Prague</td>\n",
       "      <td>IM</td>\n",
       "    </tr>\n",
       "    <tr>\n",
       "      <th>1</th>\n",
       "      <td>1/2-1/2</td>\n",
       "      <td>slow</td>\n",
       "      <td>2425</td>\n",
       "      <td>2545</td>\n",
       "      <td>2485.0</td>\n",
       "      <td>-120</td>\n",
       "      <td>104</td>\n",
       "      <td>E</td>\n",
       "      <td>1980</td>\n",
       "      <td>Prague</td>\n",
       "      <td>GM</td>\n",
       "    </tr>\n",
       "    <tr>\n",
       "      <th>2</th>\n",
       "      <td>0-1</td>\n",
       "      <td>slow</td>\n",
       "      <td>2445</td>\n",
       "      <td>2410</td>\n",
       "      <td>2427.5</td>\n",
       "      <td>35</td>\n",
       "      <td>85</td>\n",
       "      <td>C</td>\n",
       "      <td>1980</td>\n",
       "      <td>Prague</td>\n",
       "      <td>IM</td>\n",
       "    </tr>\n",
       "    <tr>\n",
       "      <th>3</th>\n",
       "      <td>0-1</td>\n",
       "      <td>slow</td>\n",
       "      <td>2435</td>\n",
       "      <td>2445</td>\n",
       "      <td>2440.0</td>\n",
       "      <td>-10</td>\n",
       "      <td>82</td>\n",
       "      <td>D</td>\n",
       "      <td>1980</td>\n",
       "      <td>Prague</td>\n",
       "      <td>IM</td>\n",
       "    </tr>\n",
       "    <tr>\n",
       "      <th>4</th>\n",
       "      <td>1/2-1/2</td>\n",
       "      <td>slow</td>\n",
       "      <td>2410</td>\n",
       "      <td>2380</td>\n",
       "      <td>2395.0</td>\n",
       "      <td>30</td>\n",
       "      <td>16</td>\n",
       "      <td>A</td>\n",
       "      <td>1980</td>\n",
       "      <td>Prague</td>\n",
       "      <td>IM</td>\n",
       "    </tr>\n",
       "  </tbody>\n",
       "</table>\n",
       "</div>"
      ],
      "text/plain": [
       "    result control  elo_white  elo_black  elo_average  elo_difference  length  \\\n",
       "0  1/2-1/2    slow       2380       2330       2355.0              50      25   \n",
       "1  1/2-1/2    slow       2425       2545       2485.0            -120     104   \n",
       "2      0-1    slow       2445       2410       2427.5              35      85   \n",
       "3      0-1    slow       2435       2445       2440.0             -10      82   \n",
       "4  1/2-1/2    slow       2410       2380       2395.0              30      16   \n",
       "\n",
       "  opening  date    site category  \n",
       "0       C  1980  Prague       IM  \n",
       "1       E  1980  Prague       GM  \n",
       "2       C  1980  Prague       IM  \n",
       "3       D  1980  Prague       IM  \n",
       "4       A  1980  Prague       IM  "
      ]
     },
     "execution_count": 194,
     "metadata": {},
     "output_type": "execute_result"
    }
   ],
   "source": [
    "def classify_elo(elo):\n",
    "    bins = [0, 1000, 1600, 2100, 2300, 2450, 2650, 3000]\n",
    "    labels = ['Begginer', 'Average', 'Strong', 'International', 'IM', 'GM', 'SuperGM']\n",
    "    for i in range(1, len(bins)):\n",
    "        if bins[i - 1] <= elo and elo <= bins[i]:\n",
    "            return labels[i - 1]\n",
    "\n",
    "        \n",
    "slow['category'] = slow['elo_average'].apply(classify_elo)\n",
    "rapid['category'] = rapid['elo_average'].apply(classify_elo)\n",
    "blitz['category'] = blitz['elo_average'].apply(classify_elo)\n",
    "games_df['category'] = games_df['elo_average'].apply(classify_elo)\n",
    "games_df.head()"
   ]
  },
  {
   "cell_type": "code",
   "execution_count": 198,
   "metadata": {},
   "outputs": [
    {
     "data": {
      "text/plain": [
       "[[4, 1, 0],\n",
       " [478, 469, 53],\n",
       " [1908, 1752, 309],\n",
       " [4054, 3518, 949],\n",
       " [5942, 5404, 2009],\n",
       " [9679, 8133, 4594],\n",
       " [4136, 3295, 3360]]"
      ]
     },
     "execution_count": 198,
     "metadata": {},
     "output_type": "execute_result"
    }
   ],
   "source": [
    "abels = ['Begginer', 'Average', 'Strong', 'International', 'IM', 'GM', 'SuperGM']\n",
    "table_blitz = []\n",
    "for level in abels:\n",
    "    cur = []\n",
    "    for res in [\"1-0\", \"0-1\", \"1/2-1/2\"]:\n",
    "        cur.append(blitz[(blitz['result'] == res) & (blitz['category'] == level)].shape[0])\n",
    "    table_blitz.append(cur)\n",
    "table_blitz"
   ]
  },
  {
   "cell_type": "code",
   "execution_count": 199,
   "metadata": {},
   "outputs": [
    {
     "data": {
      "text/plain": [
       "[[54, 46, 5],\n",
       " [1254, 1171, 332],\n",
       " [6181, 5332, 2069],\n",
       " [8073, 7065, 2998],\n",
       " [9746, 8451, 4967],\n",
       " [12724, 10196, 10922],\n",
       " [4000, 2798, 5072]]"
      ]
     },
     "execution_count": 199,
     "metadata": {},
     "output_type": "execute_result"
    }
   ],
   "source": [
    "table_slow  = ...\n",
    "\n",
    "abels = ['Begginer', 'Average', 'Strong', 'International', 'IM', 'GM', 'SuperGM']\n",
    "table_rapid = []\n",
    "for level in abels:\n",
    "    cur = []\n",
    "    for res in [\"1-0\", \"0-1\", \"1/2-1/2\"]:\n",
    "        cur.append(rapid[(rapid['result'] == res) & (rapid['category'] == level)].shape[0])\n",
    "    table_rapid.append(cur)\n",
    "table_rapid"
   ]
  },
  {
   "cell_type": "code",
   "execution_count": 200,
   "metadata": {},
   "outputs": [
    {
     "data": {
      "text/plain": [
       "[[12649, 11453, 3678],\n",
       " [168174, 149286, 73978],\n",
       " [773904, 653120, 492760],\n",
       " [596831, 480338, 468887],\n",
       " [394897, 299672, 396407],\n",
       " [185091, 123205, 282445],\n",
       " [9744, 5343, 22175]]"
      ]
     },
     "execution_count": 200,
     "metadata": {},
     "output_type": "execute_result"
    }
   ],
   "source": [
    "abels = ['Begginer', 'Average', 'Strong', 'International', 'IM', 'GM', 'SuperGM']\n",
    "table_slow = []\n",
    "for level in abels:\n",
    "    cur = []\n",
    "    for res in [\"1-0\", \"0-1\", \"1/2-1/2\"]:\n",
    "        cur.append(slow[(slow['result'] == res) & (slow['category'] == level)].shape[0])\n",
    "    table_slow.append(cur)\n",
    "table_slow"
   ]
  },
  {
   "cell_type": "code",
   "execution_count": 202,
   "metadata": {
    "execution": {
     "iopub.execute_input": "2024-11-03T12:40:56.524889Z",
     "iopub.status.busy": "2024-11-03T12:40:56.524561Z",
     "iopub.status.idle": "2024-11-03T12:40:56.537702Z",
     "shell.execute_reply": "2024-11-03T12:40:56.536347Z",
     "shell.execute_reply.started": "2024-11-03T12:40:56.524854Z"
    }
   },
   "outputs": [
    {
     "name": "stdout",
     "output_type": "stream",
     "text": [
      "Testing ... for slow format\n"
     ]
    },
    {
     "data": {
      "text/plain": [
       "\n",
       "        Chi2. \n",
       "        H0: F[X] = F[Y]\n",
       "        H1: F[X] != F[Y]\n",
       "        ===================================\n",
       "        Statistics value: 168050.21602826324. Critical value: 21.02606981748307\n",
       "        P-value: 0.0, \n",
       "        Verdict: Reject H0 at significance level 0.05\n",
       "        "
      ]
     },
     "execution_count": 202,
     "metadata": {},
     "output_type": "execute_result"
    }
   ],
   "source": [
    "print('Testing ... for slow format')\n",
    "chi2_contingency(np.array(table_slow))"
   ]
  },
  {
   "cell_type": "code",
   "execution_count": 203,
   "metadata": {
    "execution": {
     "iopub.execute_input": "2024-11-03T12:40:56.539849Z",
     "iopub.status.busy": "2024-11-03T12:40:56.539470Z",
     "iopub.status.idle": "2024-11-03T12:40:56.554982Z",
     "shell.execute_reply": "2024-11-03T12:40:56.553826Z",
     "shell.execute_reply.started": "2024-11-03T12:40:56.539810Z"
    }
   },
   "outputs": [
    {
     "name": "stdout",
     "output_type": "stream",
     "text": [
      "Testing ... for rapid format\n"
     ]
    },
    {
     "data": {
      "text/plain": [
       "\n",
       "        Chi2. \n",
       "        H0: F[X] = F[Y]\n",
       "        H1: F[X] != F[Y]\n",
       "        ===================================\n",
       "        Statistics value: 4760.244792622887. Critical value: 21.02606981748307\n",
       "        P-value: 0.0, \n",
       "        Verdict: Reject H0 at significance level 0.05\n",
       "        "
      ]
     },
     "execution_count": 203,
     "metadata": {},
     "output_type": "execute_result"
    }
   ],
   "source": [
    "print('Testing ... for rapid format')\n",
    "chi2_contingency(np.array(table_rapid))"
   ]
  },
  {
   "cell_type": "code",
   "execution_count": 204,
   "metadata": {
    "execution": {
     "iopub.execute_input": "2024-11-03T12:40:56.556807Z",
     "iopub.status.busy": "2024-11-03T12:40:56.556385Z",
     "iopub.status.idle": "2024-11-03T12:40:56.574464Z",
     "shell.execute_reply": "2024-11-03T12:40:56.573234Z",
     "shell.execute_reply.started": "2024-11-03T12:40:56.556763Z"
    }
   },
   "outputs": [
    {
     "name": "stdout",
     "output_type": "stream",
     "text": [
      "Testing ... for blitz format\n"
     ]
    },
    {
     "data": {
      "text/plain": [
       "\n",
       "        Chi2. \n",
       "        H0: F[X] = F[Y]\n",
       "        H1: F[X] != F[Y]\n",
       "        ===================================\n",
       "        Statistics value: 2039.3300346973551. Critical value: 21.02606981748307\n",
       "        P-value: 0.0, \n",
       "        Verdict: Reject H0 at significance level 0.05\n",
       "        "
      ]
     },
     "execution_count": 204,
     "metadata": {},
     "output_type": "execute_result"
    }
   ],
   "source": [
    "print('Testing ... for blitz format')\n",
    "chi2_contingency(np.array(table_blitz))"
   ]
  },
  {
   "cell_type": "markdown",
   "metadata": {},
   "source": [
    "Проблема в том что критерий $\\chi^2$ позволяет нам проверять факторы на зависимость/независимость, но ничего не говорит о структуре этой зависимости. Реализуйте вычисление ранговой корреляции Спирмена и посчитайте её, чтобы оценить есть ли \n",
    "- Монотонная зависимость между *шансами на ничью* и *рангом партии*\n",
    "- Монотонная зависимость между *разницей шансов на победу у белых и у чёрных* и *рангом партии*\n",
    "\n",
    "Используйте для этого партии сыгранные в блиц-контроле и дайте интерпретацию полученным результатам. "
   ]
  },
  {
   "cell_type": "markdown",
   "metadata": {},
   "source": [
    "$R = rank(X), S = rank(Y)$\n",
    "\n",
    "$$\n",
    "\\rho = \\frac{ \\sum_{i=1}^{n} (R_i - \\overline{R})(S_i - \\overline{S}) }{ \\sqrt{ \\sum_{i=1}^{n} (R_i - \\overline{R})^2 \\sum_{i=1}^{n} (S_i - \\overline{S})^2 } }\n",
    "$$\n"
   ]
  },
  {
   "cell_type": "code",
   "execution_count": 205,
   "metadata": {},
   "outputs": [
    {
     "data": {
      "text/html": [
       "<div>\n",
       "<style scoped>\n",
       "    .dataframe tbody tr th:only-of-type {\n",
       "        vertical-align: middle;\n",
       "    }\n",
       "\n",
       "    .dataframe tbody tr th {\n",
       "        vertical-align: top;\n",
       "    }\n",
       "\n",
       "    .dataframe thead th {\n",
       "        text-align: right;\n",
       "    }\n",
       "</style>\n",
       "<table border=\"1\" class=\"dataframe\">\n",
       "  <thead>\n",
       "    <tr style=\"text-align: right;\">\n",
       "      <th></th>\n",
       "      <th>result</th>\n",
       "      <th>control</th>\n",
       "      <th>elo_white</th>\n",
       "      <th>elo_black</th>\n",
       "      <th>elo_average</th>\n",
       "      <th>elo_difference</th>\n",
       "      <th>length</th>\n",
       "      <th>opening</th>\n",
       "      <th>date</th>\n",
       "      <th>site</th>\n",
       "      <th>category</th>\n",
       "    </tr>\n",
       "  </thead>\n",
       "  <tbody>\n",
       "    <tr>\n",
       "      <th>0</th>\n",
       "      <td>1/2-1/2</td>\n",
       "      <td>slow</td>\n",
       "      <td>2380</td>\n",
       "      <td>2330</td>\n",
       "      <td>2355.0</td>\n",
       "      <td>50</td>\n",
       "      <td>25</td>\n",
       "      <td>C</td>\n",
       "      <td>1980</td>\n",
       "      <td>Prague</td>\n",
       "      <td>IM</td>\n",
       "    </tr>\n",
       "    <tr>\n",
       "      <th>1</th>\n",
       "      <td>1/2-1/2</td>\n",
       "      <td>slow</td>\n",
       "      <td>2425</td>\n",
       "      <td>2545</td>\n",
       "      <td>2485.0</td>\n",
       "      <td>-120</td>\n",
       "      <td>104</td>\n",
       "      <td>E</td>\n",
       "      <td>1980</td>\n",
       "      <td>Prague</td>\n",
       "      <td>GM</td>\n",
       "    </tr>\n",
       "    <tr>\n",
       "      <th>2</th>\n",
       "      <td>0-1</td>\n",
       "      <td>slow</td>\n",
       "      <td>2445</td>\n",
       "      <td>2410</td>\n",
       "      <td>2427.5</td>\n",
       "      <td>35</td>\n",
       "      <td>85</td>\n",
       "      <td>C</td>\n",
       "      <td>1980</td>\n",
       "      <td>Prague</td>\n",
       "      <td>IM</td>\n",
       "    </tr>\n",
       "    <tr>\n",
       "      <th>3</th>\n",
       "      <td>0-1</td>\n",
       "      <td>slow</td>\n",
       "      <td>2435</td>\n",
       "      <td>2445</td>\n",
       "      <td>2440.0</td>\n",
       "      <td>-10</td>\n",
       "      <td>82</td>\n",
       "      <td>D</td>\n",
       "      <td>1980</td>\n",
       "      <td>Prague</td>\n",
       "      <td>IM</td>\n",
       "    </tr>\n",
       "    <tr>\n",
       "      <th>4</th>\n",
       "      <td>1/2-1/2</td>\n",
       "      <td>slow</td>\n",
       "      <td>2410</td>\n",
       "      <td>2380</td>\n",
       "      <td>2395.0</td>\n",
       "      <td>30</td>\n",
       "      <td>16</td>\n",
       "      <td>A</td>\n",
       "      <td>1980</td>\n",
       "      <td>Prague</td>\n",
       "      <td>IM</td>\n",
       "    </tr>\n",
       "  </tbody>\n",
       "</table>\n",
       "</div>"
      ],
      "text/plain": [
       "    result control  elo_white  elo_black  elo_average  elo_difference  length  \\\n",
       "0  1/2-1/2    slow       2380       2330       2355.0              50      25   \n",
       "1  1/2-1/2    slow       2425       2545       2485.0            -120     104   \n",
       "2      0-1    slow       2445       2410       2427.5              35      85   \n",
       "3      0-1    slow       2435       2445       2440.0             -10      82   \n",
       "4  1/2-1/2    slow       2410       2380       2395.0              30      16   \n",
       "\n",
       "  opening  date    site category  \n",
       "0       C  1980  Prague       IM  \n",
       "1       E  1980  Prague       GM  \n",
       "2       C  1980  Prague       IM  \n",
       "3       D  1980  Prague       IM  \n",
       "4       A  1980  Prague       IM  "
      ]
     },
     "execution_count": 205,
     "metadata": {},
     "output_type": "execute_result"
    }
   ],
   "source": [
    "games_df.head()"
   ]
  },
  {
   "cell_type": "code",
   "execution_count": 341,
   "metadata": {},
   "outputs": [],
   "source": [
    "table_blitz_ = games_df[games_df['control'] == 'blitz'].copy(deep=True)"
   ]
  },
  {
   "cell_type": "code",
   "execution_count": 344,
   "metadata": {},
   "outputs": [
    {
     "data": {
      "text/html": [
       "<div>\n",
       "<style scoped>\n",
       "    .dataframe tbody tr th:only-of-type {\n",
       "        vertical-align: middle;\n",
       "    }\n",
       "\n",
       "    .dataframe tbody tr th {\n",
       "        vertical-align: top;\n",
       "    }\n",
       "\n",
       "    .dataframe thead th {\n",
       "        text-align: right;\n",
       "    }\n",
       "</style>\n",
       "<table border=\"1\" class=\"dataframe\">\n",
       "  <thead>\n",
       "    <tr style=\"text-align: right;\">\n",
       "      <th></th>\n",
       "      <th>result</th>\n",
       "      <th>control</th>\n",
       "      <th>elo_white</th>\n",
       "      <th>elo_black</th>\n",
       "      <th>elo_average</th>\n",
       "      <th>elo_difference</th>\n",
       "      <th>length</th>\n",
       "      <th>opening</th>\n",
       "      <th>date</th>\n",
       "      <th>site</th>\n",
       "      <th>category</th>\n",
       "      <th>white_win_prob</th>\n",
       "    </tr>\n",
       "  </thead>\n",
       "  <tbody>\n",
       "    <tr>\n",
       "      <th>80778</th>\n",
       "      <td>1-0</td>\n",
       "      <td>blitz</td>\n",
       "      <td>2605</td>\n",
       "      <td>2490</td>\n",
       "      <td>2547.5</td>\n",
       "      <td>115</td>\n",
       "      <td>69</td>\n",
       "      <td>B</td>\n",
       "      <td>1987</td>\n",
       "      <td>St del Esterol</td>\n",
       "      <td>GM</td>\n",
       "      <td>0.43198</td>\n",
       "    </tr>\n",
       "    <tr>\n",
       "      <th>80779</th>\n",
       "      <td>1-0</td>\n",
       "      <td>blitz</td>\n",
       "      <td>2490</td>\n",
       "      <td>2605</td>\n",
       "      <td>2547.5</td>\n",
       "      <td>-115</td>\n",
       "      <td>99</td>\n",
       "      <td>A</td>\n",
       "      <td>1987</td>\n",
       "      <td>St del Esterol</td>\n",
       "      <td>GM</td>\n",
       "      <td>0.43198</td>\n",
       "    </tr>\n",
       "    <tr>\n",
       "      <th>80780</th>\n",
       "      <td>1/2-1/2</td>\n",
       "      <td>blitz</td>\n",
       "      <td>2605</td>\n",
       "      <td>2490</td>\n",
       "      <td>2547.5</td>\n",
       "      <td>115</td>\n",
       "      <td>72</td>\n",
       "      <td>A</td>\n",
       "      <td>1987</td>\n",
       "      <td>St del Esterol</td>\n",
       "      <td>GM</td>\n",
       "      <td>0.43198</td>\n",
       "    </tr>\n",
       "    <tr>\n",
       "      <th>80781</th>\n",
       "      <td>0-1</td>\n",
       "      <td>blitz</td>\n",
       "      <td>2490</td>\n",
       "      <td>2605</td>\n",
       "      <td>2547.5</td>\n",
       "      <td>-115</td>\n",
       "      <td>88</td>\n",
       "      <td>A</td>\n",
       "      <td>1987</td>\n",
       "      <td>St del Esterol</td>\n",
       "      <td>GM</td>\n",
       "      <td>0.43198</td>\n",
       "    </tr>\n",
       "    <tr>\n",
       "      <th>80782</th>\n",
       "      <td>1-0</td>\n",
       "      <td>blitz</td>\n",
       "      <td>2605</td>\n",
       "      <td>2490</td>\n",
       "      <td>2547.5</td>\n",
       "      <td>115</td>\n",
       "      <td>69</td>\n",
       "      <td>B</td>\n",
       "      <td>1987</td>\n",
       "      <td>St del Esterol</td>\n",
       "      <td>GM</td>\n",
       "      <td>0.43198</td>\n",
       "    </tr>\n",
       "    <tr>\n",
       "      <th>...</th>\n",
       "      <td>...</td>\n",
       "      <td>...</td>\n",
       "      <td>...</td>\n",
       "      <td>...</td>\n",
       "      <td>...</td>\n",
       "      <td>...</td>\n",
       "      <td>...</td>\n",
       "      <td>...</td>\n",
       "      <td>...</td>\n",
       "      <td>...</td>\n",
       "      <td>...</td>\n",
       "      <td>...</td>\n",
       "    </tr>\n",
       "    <tr>\n",
       "      <th>5766540</th>\n",
       "      <td>0-1</td>\n",
       "      <td>blitz</td>\n",
       "      <td>2767</td>\n",
       "      <td>2757</td>\n",
       "      <td>2762.0</td>\n",
       "      <td>10</td>\n",
       "      <td>142</td>\n",
       "      <td>C</td>\n",
       "      <td>2020</td>\n",
       "      <td>Stavanger</td>\n",
       "      <td>SuperGM</td>\n",
       "      <td>0.38328</td>\n",
       "    </tr>\n",
       "    <tr>\n",
       "      <th>5766541</th>\n",
       "      <td>1-0</td>\n",
       "      <td>blitz</td>\n",
       "      <td>2828</td>\n",
       "      <td>2728</td>\n",
       "      <td>2778.0</td>\n",
       "      <td>100</td>\n",
       "      <td>97</td>\n",
       "      <td>B</td>\n",
       "      <td>2020</td>\n",
       "      <td>Stavanger</td>\n",
       "      <td>SuperGM</td>\n",
       "      <td>0.38328</td>\n",
       "    </tr>\n",
       "    <tr>\n",
       "      <th>5766542</th>\n",
       "      <td>0-1</td>\n",
       "      <td>blitz</td>\n",
       "      <td>2757</td>\n",
       "      <td>2828</td>\n",
       "      <td>2792.5</td>\n",
       "      <td>-71</td>\n",
       "      <td>60</td>\n",
       "      <td>A</td>\n",
       "      <td>2020</td>\n",
       "      <td>Stavanger</td>\n",
       "      <td>SuperGM</td>\n",
       "      <td>0.38328</td>\n",
       "    </tr>\n",
       "    <tr>\n",
       "      <th>5766543</th>\n",
       "      <td>0-1</td>\n",
       "      <td>blitz</td>\n",
       "      <td>2633</td>\n",
       "      <td>2767</td>\n",
       "      <td>2700.0</td>\n",
       "      <td>-134</td>\n",
       "      <td>68</td>\n",
       "      <td>C</td>\n",
       "      <td>2020</td>\n",
       "      <td>Stavanger</td>\n",
       "      <td>SuperGM</td>\n",
       "      <td>0.38328</td>\n",
       "    </tr>\n",
       "    <tr>\n",
       "      <th>5766544</th>\n",
       "      <td>1-0</td>\n",
       "      <td>blitz</td>\n",
       "      <td>2828</td>\n",
       "      <td>2633</td>\n",
       "      <td>2730.5</td>\n",
       "      <td>195</td>\n",
       "      <td>75</td>\n",
       "      <td>C</td>\n",
       "      <td>2020</td>\n",
       "      <td>Stavanger</td>\n",
       "      <td>SuperGM</td>\n",
       "      <td>0.38328</td>\n",
       "    </tr>\n",
       "  </tbody>\n",
       "</table>\n",
       "<p>60047 rows × 12 columns</p>\n",
       "</div>"
      ],
      "text/plain": [
       "          result control  elo_white  elo_black  elo_average  elo_difference  \\\n",
       "80778        1-0   blitz       2605       2490       2547.5             115   \n",
       "80779        1-0   blitz       2490       2605       2547.5            -115   \n",
       "80780    1/2-1/2   blitz       2605       2490       2547.5             115   \n",
       "80781        0-1   blitz       2490       2605       2547.5            -115   \n",
       "80782        1-0   blitz       2605       2490       2547.5             115   \n",
       "...          ...     ...        ...        ...          ...             ...   \n",
       "5766540      0-1   blitz       2767       2757       2762.0              10   \n",
       "5766541      1-0   blitz       2828       2728       2778.0             100   \n",
       "5766542      0-1   blitz       2757       2828       2792.5             -71   \n",
       "5766543      0-1   blitz       2633       2767       2700.0            -134   \n",
       "5766544      1-0   blitz       2828       2633       2730.5             195   \n",
       "\n",
       "         length opening  date            site category  white_win_prob  \n",
       "80778        69       B  1987  St del Esterol       GM         0.43198  \n",
       "80779        99       A  1987  St del Esterol       GM         0.43198  \n",
       "80780        72       A  1987  St del Esterol       GM         0.43198  \n",
       "80781        88       A  1987  St del Esterol       GM         0.43198  \n",
       "80782        69       B  1987  St del Esterol       GM         0.43198  \n",
       "...         ...     ...   ...             ...      ...             ...  \n",
       "5766540     142       C  2020       Stavanger  SuperGM         0.38328  \n",
       "5766541      97       B  2020       Stavanger  SuperGM         0.38328  \n",
       "5766542      60       A  2020       Stavanger  SuperGM         0.38328  \n",
       "5766543      68       C  2020       Stavanger  SuperGM         0.38328  \n",
       "5766544      75       C  2020       Stavanger  SuperGM         0.38328  \n",
       "\n",
       "[60047 rows x 12 columns]"
      ]
     },
     "execution_count": 344,
     "metadata": {},
     "output_type": "execute_result"
    }
   ],
   "source": [
    "table_blitz_"
   ]
  },
  {
   "cell_type": "code",
   "execution_count": 345,
   "metadata": {},
   "outputs": [],
   "source": [
    "for level in ['Begginer', 'Average', 'Strong', 'International', 'IM', 'GM', 'SuperGM']:\n",
    "    white_kol_level = table_blitz_[(table_blitz_['result'] == \"1-0\") & (table_blitz_['category'] == level)].shape[0]\n",
    "    white_kol = table_blitz_[table_blitz_['category'] == level].shape[0]\n",
    "    table_blitz_.loc[table_blitz_['category'] == level, 'white_win_prob'] = white_kol_level / white_kol"
   ]
  },
  {
   "cell_type": "code",
   "execution_count": 346,
   "metadata": {},
   "outputs": [],
   "source": [
    "for level in ['Begginer', 'Average', 'Strong', 'International', 'IM', 'GM', 'SuperGM']:\n",
    "    black_kol_level = table_blitz_[(table_blitz_['result'] == \"0-1\") & (table_blitz_['category'] == level)].shape[0]\n",
    "    black_kol = table_blitz_[table_blitz_['category'] == level].shape[0]\n",
    "    table_blitz_.loc[table_blitz_['category'] == level, 'black_win_prob'] = black_kol_level / black_kol"
   ]
  },
  {
   "cell_type": "code",
   "execution_count": 347,
   "metadata": {},
   "outputs": [],
   "source": [
    "for level in ['Begginer', 'Average', 'Strong', 'International', 'IM', 'GM', 'SuperGM']:\n",
    "    drwa_kol_level = table_blitz_[(table_blitz_['result'] == \"1/2-1/2\") & (table_blitz_['category'] == level)].shape[0]\n",
    "    drwa_kol = table_blitz_[table_blitz_['category'] == level].shape[0]\n",
    "    table_blitz_.loc[table_blitz_['category'] == level, 'draw_prob'] = drwa_kol_level / drwa_kol"
   ]
  },
  {
   "cell_type": "code",
   "execution_count": 348,
   "metadata": {},
   "outputs": [],
   "source": [
    "table_blitz_['dominance'] = table_blitz_['white_win_prob'] - table_blitz_['black_win_prob']"
   ]
  },
  {
   "cell_type": "code",
   "execution_count": 349,
   "metadata": {},
   "outputs": [],
   "source": [
    "table_blitz_['category_score'] = 0\n",
    "abels = ['Begginer', 'Average', 'Strong', 'International', 'IM', 'GM', 'SuperGM']\n",
    "bins = [0, 1000, 1600, 2100, 2300, 2450, 2650, 3000]\n",
    "\n",
    "for i in range(7):\n",
    "    table_blitz_.loc[table_blitz_['category'] == abels[i], 'category_score'] = bins[i + 1]"
   ]
  },
  {
   "cell_type": "code",
   "execution_count": 350,
   "metadata": {},
   "outputs": [
    {
     "data": {
      "text/html": [
       "<div>\n",
       "<style scoped>\n",
       "    .dataframe tbody tr th:only-of-type {\n",
       "        vertical-align: middle;\n",
       "    }\n",
       "\n",
       "    .dataframe tbody tr th {\n",
       "        vertical-align: top;\n",
       "    }\n",
       "\n",
       "    .dataframe thead th {\n",
       "        text-align: right;\n",
       "    }\n",
       "</style>\n",
       "<table border=\"1\" class=\"dataframe\">\n",
       "  <thead>\n",
       "    <tr style=\"text-align: right;\">\n",
       "      <th></th>\n",
       "      <th>result</th>\n",
       "      <th>control</th>\n",
       "      <th>elo_white</th>\n",
       "      <th>elo_black</th>\n",
       "      <th>elo_average</th>\n",
       "      <th>elo_difference</th>\n",
       "      <th>length</th>\n",
       "      <th>opening</th>\n",
       "      <th>date</th>\n",
       "      <th>site</th>\n",
       "      <th>category</th>\n",
       "      <th>white_win_prob</th>\n",
       "      <th>black_win_prob</th>\n",
       "      <th>draw_prob</th>\n",
       "      <th>dominance</th>\n",
       "      <th>category_score</th>\n",
       "    </tr>\n",
       "  </thead>\n",
       "  <tbody>\n",
       "    <tr>\n",
       "      <th>4521086</th>\n",
       "      <td>0-1</td>\n",
       "      <td>blitz</td>\n",
       "      <td>2710</td>\n",
       "      <td>2747</td>\n",
       "      <td>2728.5</td>\n",
       "      <td>-37</td>\n",
       "      <td>68</td>\n",
       "      <td>A</td>\n",
       "      <td>2016</td>\n",
       "      <td>Huaian</td>\n",
       "      <td>SuperGM</td>\n",
       "      <td>0.38328</td>\n",
       "      <td>0.30535</td>\n",
       "      <td>0.31137</td>\n",
       "      <td>0.07794</td>\n",
       "      <td>3000</td>\n",
       "    </tr>\n",
       "    <tr>\n",
       "      <th>4707093</th>\n",
       "      <td>1-0</td>\n",
       "      <td>blitz</td>\n",
       "      <td>2463</td>\n",
       "      <td>2537</td>\n",
       "      <td>2500.0</td>\n",
       "      <td>-74</td>\n",
       "      <td>134</td>\n",
       "      <td>C</td>\n",
       "      <td>2016</td>\n",
       "      <td>Sochi</td>\n",
       "      <td>GM</td>\n",
       "      <td>0.43198</td>\n",
       "      <td>0.36298</td>\n",
       "      <td>0.20503</td>\n",
       "      <td>0.06900</td>\n",
       "      <td>2650</td>\n",
       "    </tr>\n",
       "    <tr>\n",
       "      <th>4521258</th>\n",
       "      <td>1-0</td>\n",
       "      <td>blitz</td>\n",
       "      <td>2458</td>\n",
       "      <td>2554</td>\n",
       "      <td>2506.0</td>\n",
       "      <td>-96</td>\n",
       "      <td>97</td>\n",
       "      <td>B</td>\n",
       "      <td>2016</td>\n",
       "      <td>Huaian</td>\n",
       "      <td>GM</td>\n",
       "      <td>0.43198</td>\n",
       "      <td>0.36298</td>\n",
       "      <td>0.20503</td>\n",
       "      <td>0.06900</td>\n",
       "      <td>2650</td>\n",
       "    </tr>\n",
       "    <tr>\n",
       "      <th>1319725</th>\n",
       "      <td>1/2-1/2</td>\n",
       "      <td>blitz</td>\n",
       "      <td>2168</td>\n",
       "      <td>2247</td>\n",
       "      <td>2207.5</td>\n",
       "      <td>-79</td>\n",
       "      <td>205</td>\n",
       "      <td>D</td>\n",
       "      <td>2003</td>\n",
       "      <td>Dos Hermanas</td>\n",
       "      <td>International</td>\n",
       "      <td>0.47577</td>\n",
       "      <td>0.41286</td>\n",
       "      <td>0.11137</td>\n",
       "      <td>0.06290</td>\n",
       "      <td>2300</td>\n",
       "    </tr>\n",
       "    <tr>\n",
       "      <th>4381565</th>\n",
       "      <td>1-0</td>\n",
       "      <td>blitz</td>\n",
       "      <td>2705</td>\n",
       "      <td>2497</td>\n",
       "      <td>2601.0</td>\n",
       "      <td>208</td>\n",
       "      <td>79</td>\n",
       "      <td>C</td>\n",
       "      <td>2015</td>\n",
       "      <td>Moscow</td>\n",
       "      <td>GM</td>\n",
       "      <td>0.43198</td>\n",
       "      <td>0.36298</td>\n",
       "      <td>0.20503</td>\n",
       "      <td>0.06900</td>\n",
       "      <td>2650</td>\n",
       "    </tr>\n",
       "  </tbody>\n",
       "</table>\n",
       "</div>"
      ],
      "text/plain": [
       "          result control  elo_white  elo_black  elo_average  elo_difference  \\\n",
       "4521086      0-1   blitz       2710       2747       2728.5             -37   \n",
       "4707093      1-0   blitz       2463       2537       2500.0             -74   \n",
       "4521258      1-0   blitz       2458       2554       2506.0             -96   \n",
       "1319725  1/2-1/2   blitz       2168       2247       2207.5             -79   \n",
       "4381565      1-0   blitz       2705       2497       2601.0             208   \n",
       "\n",
       "         length opening  date          site       category  white_win_prob  \\\n",
       "4521086      68       A  2016        Huaian        SuperGM         0.38328   \n",
       "4707093     134       C  2016         Sochi             GM         0.43198   \n",
       "4521258      97       B  2016        Huaian             GM         0.43198   \n",
       "1319725     205       D  2003  Dos Hermanas  International         0.47577   \n",
       "4381565      79       C  2015        Moscow             GM         0.43198   \n",
       "\n",
       "         black_win_prob  draw_prob  dominance  category_score  \n",
       "4521086         0.30535    0.31137    0.07794            3000  \n",
       "4707093         0.36298    0.20503    0.06900            2650  \n",
       "4521258         0.36298    0.20503    0.06900            2650  \n",
       "1319725         0.41286    0.11137    0.06290            2300  \n",
       "4381565         0.36298    0.20503    0.06900            2650  "
      ]
     },
     "execution_count": 350,
     "metadata": {},
     "output_type": "execute_result"
    }
   ],
   "source": [
    "table_blitz_.sample(5)"
   ]
  },
  {
   "cell_type": "code",
   "execution_count": 351,
   "metadata": {},
   "outputs": [
    {
     "name": "stdout",
     "output_type": "stream",
     "text": [
      "1 [0.]\n",
      "2 [0.053]\n",
      "3 [0.07785336]\n",
      "4 [0.1113719]\n",
      "5 [0.15043055]\n",
      "6 [0.20503437]\n",
      "7 [0.31137059]\n"
     ]
    }
   ],
   "source": [
    "abels = ['Begginer', 'Average', 'Strong', 'International', 'IM', 'GM', 'SuperGM']\n",
    "i = 1\n",
    "for level in abels:\n",
    "    print(i, table_blitz_['draw_prob'][table_blitz_['category'] == level].unique())\n",
    "    i += 1"
   ]
  },
  {
   "cell_type": "code",
   "execution_count": 352,
   "metadata": {},
   "outputs": [
    {
     "data": {
      "text/plain": [
       "array([0.20503437, 0.31137059, 0.15043055, 0.1113719 , 0.07785336,\n",
       "       0.053     , 0.        ])"
      ]
     },
     "execution_count": 352,
     "metadata": {},
     "output_type": "execute_result"
    }
   ],
   "source": [
    "table_blitz_['draw_prob'].unique()"
   ]
  },
  {
   "cell_type": "code",
   "execution_count": 353,
   "metadata": {},
   "outputs": [],
   "source": [
    "draw_rank_data = list(zip([6, 7, 5, 4, 3, 2, 1], table_blitz_['draw_prob'].unique()))\n",
    "dominance_rank_data = list(zip([6, 7, 5, 4, 3, 2, 1], table_blitz_['dominance'].unique()))"
   ]
  },
  {
   "cell_type": "code",
   "execution_count": 358,
   "metadata": {},
   "outputs": [
    {
     "data": {
      "text/plain": [
       "array([0.06899938, 0.07793532, 0.04028454, 0.06290342, 0.03930461,\n",
       "       0.009     , 0.6       ])"
      ]
     },
     "execution_count": 358,
     "metadata": {},
     "output_type": "execute_result"
    }
   ],
   "source": [
    "table_blitz_['dominance'].unique()"
   ]
  },
  {
   "cell_type": "code",
   "execution_count": 356,
   "metadata": {
    "scrolled": false
   },
   "outputs": [
    {
     "name": "stdout",
     "output_type": "stream",
     "text": [
      "1 [0.6]\n",
      "2 [0.009]\n",
      "3 [0.03930461]\n",
      "4 [0.06290342]\n",
      "5 [0.04028454]\n",
      "6 [0.06899938]\n",
      "7 [0.07793532]\n"
     ]
    }
   ],
   "source": [
    "abels = ['Begginer', 'Average', 'Strong', 'International', 'IM', 'GM', 'SuperGM']\n",
    "i = 1\n",
    "for level in abels:\n",
    "    print(i, table_blitz_['dominance'][table_blitz_['category'] == level].unique())\n",
    "    i += 1"
   ]
  },
  {
   "cell_type": "code",
   "execution_count": 362,
   "metadata": {
    "execution": {
     "iopub.execute_input": "2024-11-03T12:40:56.601862Z",
     "iopub.status.busy": "2024-11-03T12:40:56.601466Z",
     "iopub.status.idle": "2024-11-03T12:40:56.615338Z",
     "shell.execute_reply": "2024-11-03T12:40:56.614059Z",
     "shell.execute_reply.started": "2024-11-03T12:40:56.601822Z"
    }
   },
   "outputs": [],
   "source": [
    "def spearman_calc(X, Y):\n",
    "    R = rankdata(X)\n",
    "    S = rankdata(Y)\n",
    "    \n",
    "    R_mean = np.mean(R)\n",
    "    S_mean = np.mean(S)\n",
    "    \n",
    "    numerator = np.sum((R - R_mean) * (S - S_mean))\n",
    "    \n",
    "    denominator = np.sqrt(np.sum((R - R_mean) ** 2) * np.sum((S - S_mean) ** 2))\n",
    "    \n",
    "    spearman_rho = numerator / denominator\n",
    "    \n",
    "    return spearman_rho\n",
    "\n",
    "def spearman_rank_correlation(observations : ArrayLike) -> float:\n",
    "    \"\"\"        \n",
    "        Calculates spearmean's rank correlation coefficient for data in the format\n",
    "            (1, X[1]), (2, X[2]), .... (n, X[n])\n",
    "        i.e. for the paired rank data sorted by the first component. No ties assumed\n",
    "        in the data X.\n",
    "        \n",
    "        Parameters\n",
    "        ----------\n",
    "        observed : ArrayLike\n",
    "             array of values X[1], X[2], ... X[n], \n",
    "            \n",
    "        Returns\n",
    "        -------\n",
    "        spearman : float \n",
    "            value of the spearman correlation for the given data\n",
    "    \"\"\"\n",
    "    x = np.array(observations[0])\n",
    "    y = np.array(observations[1])\n",
    "    \n",
    "    spearman = spearman_calc(x, y)\n",
    "    return spearman"
   ]
  },
  {
   "cell_type": "code",
   "execution_count": 363,
   "metadata": {
    "execution": {
     "iopub.execute_input": "2024-11-03T12:40:56.623307Z",
     "iopub.status.busy": "2024-11-03T12:40:56.622684Z",
     "iopub.status.idle": "2024-11-03T12:40:56.630583Z",
     "shell.execute_reply": "2024-11-03T12:40:56.629433Z",
     "shell.execute_reply.started": "2024-11-03T12:40:56.623264Z"
    }
   },
   "outputs": [
    {
     "name": "stdout",
     "output_type": "stream",
     "text": [
      "Correlation between draw odds and game rank: 1.0\n"
     ]
    }
   ],
   "source": [
    "rho = spearman_rank_correlation(np.array(draw_rank_data).T)\n",
    "print(f'Correlation between draw odds and game rank: {rho}')"
   ]
  },
  {
   "cell_type": "code",
   "execution_count": 364,
   "metadata": {
    "execution": {
     "iopub.execute_input": "2024-11-03T12:40:56.632736Z",
     "iopub.status.busy": "2024-11-03T12:40:56.632313Z",
     "iopub.status.idle": "2024-11-03T12:40:56.643795Z",
     "shell.execute_reply": "2024-11-03T12:40:56.642665Z",
     "shell.execute_reply.started": "2024-11-03T12:40:56.632695Z"
    }
   },
   "outputs": [
    {
     "name": "stdout",
     "output_type": "stream",
     "text": [
      "Correlation between white dominance over black and game rank: 0.21428571428571427\n"
     ]
    }
   ],
   "source": [
    "rho1 = spearman_rank_correlation(np.array(dominance_rank_data).T)\n",
    "print(f'Correlation between white dominance over black and game rank: {rho1}')"
   ]
  },
  {
   "cell_type": "markdown",
   "metadata": {},
   "source": [
    "## Задача 3. Статистика дебютов (2.5 балла)"
   ]
  },
  {
   "cell_type": "markdown",
   "metadata": {},
   "source": [
    "Другим распространённым мнением является то что выбор дебюта на высоком уровне не влияет на результативность партии. Все дебюты, согласно энциклопедии шахматных дебютов (ECO) делятся на 5 категорий\n",
    "- A: Фланговые варианты.\n",
    "- B: Полуоткрыте варианты.\n",
    "- C: Открытые варианты.\n",
    "- D: Закрытые и полузакрытые варианты.\n",
    "- E: Системы типа индийской защиты.\n",
    "\n",
    "Так как у нас нет доступа к партиям ИИ, которые сейчас считаются эталоном точной игры, мы ограничимся данными по партиям уровня супергроссмейстеров. \n",
    "Используя статистические методы, проверьте:\n",
    "- Есть ли разница в предпочтениях дебютов (с точки зрения приведенных выше категорий) между партиями уровня супергроссмейстеров и партиями уровня гроссмейстеров в классическом временном контроле? \n",
    "- Правда ли что выбор между открытым (C) и закрытым (D) началом не влияет на распределение исхода партии? Проверьте это для разных форм временного контроля. Используйте партии только уровня супергроссмейстеров.\n",
    "\n",
    "Для проверки будем использовать критерий $\\chi^2$ (снова). Для каждой гипотезы, которое вы собираетесь проверять:\n",
    "- сделайте визуализацию соответствующих данных;\n",
    "- сформулируйте нулевую и альтернативную гипотезу. Опишите как применить критерий $\\chi^2$ для проверки этих гипотез;\n",
    "- реализуйте проверку гипотезы и дайте интерпретацию результатам;"
   ]
  },
  {
   "cell_type": "code",
   "execution_count": 369,
   "metadata": {},
   "outputs": [
    {
     "data": {
      "text/html": [
       "<div>\n",
       "<style scoped>\n",
       "    .dataframe tbody tr th:only-of-type {\n",
       "        vertical-align: middle;\n",
       "    }\n",
       "\n",
       "    .dataframe tbody tr th {\n",
       "        vertical-align: top;\n",
       "    }\n",
       "\n",
       "    .dataframe thead th {\n",
       "        text-align: right;\n",
       "    }\n",
       "</style>\n",
       "<table border=\"1\" class=\"dataframe\">\n",
       "  <thead>\n",
       "    <tr style=\"text-align: right;\">\n",
       "      <th></th>\n",
       "      <th>result</th>\n",
       "      <th>control</th>\n",
       "      <th>elo_white</th>\n",
       "      <th>elo_black</th>\n",
       "      <th>elo_average</th>\n",
       "      <th>elo_difference</th>\n",
       "      <th>length</th>\n",
       "      <th>opening</th>\n",
       "      <th>date</th>\n",
       "      <th>site</th>\n",
       "      <th>category</th>\n",
       "    </tr>\n",
       "  </thead>\n",
       "  <tbody>\n",
       "    <tr>\n",
       "      <th>0</th>\n",
       "      <td>1/2-1/2</td>\n",
       "      <td>slow</td>\n",
       "      <td>2380</td>\n",
       "      <td>2330</td>\n",
       "      <td>2355.0</td>\n",
       "      <td>50</td>\n",
       "      <td>25</td>\n",
       "      <td>C</td>\n",
       "      <td>1980</td>\n",
       "      <td>Prague</td>\n",
       "      <td>IM</td>\n",
       "    </tr>\n",
       "    <tr>\n",
       "      <th>1</th>\n",
       "      <td>1/2-1/2</td>\n",
       "      <td>slow</td>\n",
       "      <td>2425</td>\n",
       "      <td>2545</td>\n",
       "      <td>2485.0</td>\n",
       "      <td>-120</td>\n",
       "      <td>104</td>\n",
       "      <td>E</td>\n",
       "      <td>1980</td>\n",
       "      <td>Prague</td>\n",
       "      <td>GM</td>\n",
       "    </tr>\n",
       "    <tr>\n",
       "      <th>2</th>\n",
       "      <td>0-1</td>\n",
       "      <td>slow</td>\n",
       "      <td>2445</td>\n",
       "      <td>2410</td>\n",
       "      <td>2427.5</td>\n",
       "      <td>35</td>\n",
       "      <td>85</td>\n",
       "      <td>C</td>\n",
       "      <td>1980</td>\n",
       "      <td>Prague</td>\n",
       "      <td>IM</td>\n",
       "    </tr>\n",
       "    <tr>\n",
       "      <th>3</th>\n",
       "      <td>0-1</td>\n",
       "      <td>slow</td>\n",
       "      <td>2435</td>\n",
       "      <td>2445</td>\n",
       "      <td>2440.0</td>\n",
       "      <td>-10</td>\n",
       "      <td>82</td>\n",
       "      <td>D</td>\n",
       "      <td>1980</td>\n",
       "      <td>Prague</td>\n",
       "      <td>IM</td>\n",
       "    </tr>\n",
       "    <tr>\n",
       "      <th>4</th>\n",
       "      <td>1/2-1/2</td>\n",
       "      <td>slow</td>\n",
       "      <td>2410</td>\n",
       "      <td>2380</td>\n",
       "      <td>2395.0</td>\n",
       "      <td>30</td>\n",
       "      <td>16</td>\n",
       "      <td>A</td>\n",
       "      <td>1980</td>\n",
       "      <td>Prague</td>\n",
       "      <td>IM</td>\n",
       "    </tr>\n",
       "  </tbody>\n",
       "</table>\n",
       "</div>"
      ],
      "text/plain": [
       "    result control  elo_white  elo_black  elo_average  elo_difference  length  \\\n",
       "0  1/2-1/2    slow       2380       2330       2355.0              50      25   \n",
       "1  1/2-1/2    slow       2425       2545       2485.0            -120     104   \n",
       "2      0-1    slow       2445       2410       2427.5              35      85   \n",
       "3      0-1    slow       2435       2445       2440.0             -10      82   \n",
       "4  1/2-1/2    slow       2410       2380       2395.0              30      16   \n",
       "\n",
       "  opening  date    site category  \n",
       "0       C  1980  Prague       IM  \n",
       "1       E  1980  Prague       GM  \n",
       "2       C  1980  Prague       IM  \n",
       "3       D  1980  Prague       IM  \n",
       "4       A  1980  Prague       IM  "
      ]
     },
     "execution_count": 369,
     "metadata": {},
     "output_type": "execute_result"
    }
   ],
   "source": [
    "games_df.head()"
   ]
  },
  {
   "cell_type": "code",
   "execution_count": 378,
   "metadata": {
    "execution": {
     "iopub.execute_input": "2024-11-03T12:41:01.911605Z",
     "iopub.status.busy": "2024-11-03T12:41:01.911251Z",
     "iopub.status.idle": "2024-11-03T12:41:01.922480Z",
     "shell.execute_reply": "2024-11-03T12:41:01.921248Z",
     "shell.execute_reply.started": "2024-11-03T12:41:01.911566Z"
    }
   },
   "outputs": [
    {
     "data": {
      "text/html": [
       "<div>\n",
       "<style scoped>\n",
       "    .dataframe tbody tr th:only-of-type {\n",
       "        vertical-align: middle;\n",
       "    }\n",
       "\n",
       "    .dataframe tbody tr th {\n",
       "        vertical-align: top;\n",
       "    }\n",
       "\n",
       "    .dataframe thead th {\n",
       "        text-align: right;\n",
       "    }\n",
       "</style>\n",
       "<table border=\"1\" class=\"dataframe\">\n",
       "  <thead>\n",
       "    <tr style=\"text-align: right;\">\n",
       "      <th></th>\n",
       "      <th>result</th>\n",
       "      <th>control</th>\n",
       "      <th>elo_white</th>\n",
       "      <th>elo_black</th>\n",
       "      <th>elo_average</th>\n",
       "      <th>elo_difference</th>\n",
       "      <th>length</th>\n",
       "      <th>opening</th>\n",
       "      <th>date</th>\n",
       "      <th>site</th>\n",
       "      <th>category</th>\n",
       "    </tr>\n",
       "  </thead>\n",
       "  <tbody>\n",
       "    <tr>\n",
       "      <th>1401</th>\n",
       "      <td>1/2-1/2</td>\n",
       "      <td>slow</td>\n",
       "      <td>2655</td>\n",
       "      <td>2725</td>\n",
       "      <td>2690.0</td>\n",
       "      <td>-70</td>\n",
       "      <td>33</td>\n",
       "      <td>E</td>\n",
       "      <td>1980</td>\n",
       "      <td>Skara</td>\n",
       "      <td>SuperGM</td>\n",
       "    </tr>\n",
       "    <tr>\n",
       "      <th>1402</th>\n",
       "      <td>1/2-1/2</td>\n",
       "      <td>slow</td>\n",
       "      <td>2705</td>\n",
       "      <td>2610</td>\n",
       "      <td>2657.5</td>\n",
       "      <td>95</td>\n",
       "      <td>67</td>\n",
       "      <td>D</td>\n",
       "      <td>1980</td>\n",
       "      <td>Skara</td>\n",
       "      <td>SuperGM</td>\n",
       "    </tr>\n",
       "    <tr>\n",
       "      <th>1439</th>\n",
       "      <td>1/2-1/2</td>\n",
       "      <td>slow</td>\n",
       "      <td>2725</td>\n",
       "      <td>2590</td>\n",
       "      <td>2657.5</td>\n",
       "      <td>135</td>\n",
       "      <td>97</td>\n",
       "      <td>B</td>\n",
       "      <td>1980</td>\n",
       "      <td>Skara</td>\n",
       "      <td>SuperGM</td>\n",
       "    </tr>\n",
       "    <tr>\n",
       "      <th>1558</th>\n",
       "      <td>1/2-1/2</td>\n",
       "      <td>slow</td>\n",
       "      <td>2590</td>\n",
       "      <td>2725</td>\n",
       "      <td>2657.5</td>\n",
       "      <td>-135</td>\n",
       "      <td>33</td>\n",
       "      <td>C</td>\n",
       "      <td>1980</td>\n",
       "      <td>Skara</td>\n",
       "      <td>SuperGM</td>\n",
       "    </tr>\n",
       "    <tr>\n",
       "      <th>1566</th>\n",
       "      <td>1/2-1/2</td>\n",
       "      <td>slow</td>\n",
       "      <td>2725</td>\n",
       "      <td>2615</td>\n",
       "      <td>2670.0</td>\n",
       "      <td>110</td>\n",
       "      <td>90</td>\n",
       "      <td>B</td>\n",
       "      <td>1980</td>\n",
       "      <td>Bad Kissingen</td>\n",
       "      <td>SuperGM</td>\n",
       "    </tr>\n",
       "  </tbody>\n",
       "</table>\n",
       "</div>"
      ],
      "text/plain": [
       "       result control  elo_white  elo_black  elo_average  elo_difference  \\\n",
       "1401  1/2-1/2    slow       2655       2725       2690.0             -70   \n",
       "1402  1/2-1/2    slow       2705       2610       2657.5              95   \n",
       "1439  1/2-1/2    slow       2725       2590       2657.5             135   \n",
       "1558  1/2-1/2    slow       2590       2725       2657.5            -135   \n",
       "1566  1/2-1/2    slow       2725       2615       2670.0             110   \n",
       "\n",
       "      length opening  date           site category  \n",
       "1401      33       E  1980          Skara  SuperGM  \n",
       "1402      67       D  1980          Skara  SuperGM  \n",
       "1439      97       B  1980          Skara  SuperGM  \n",
       "1558      33       C  1980          Skara  SuperGM  \n",
       "1566      90       B  1980  Bad Kissingen  SuperGM  "
      ]
     },
     "execution_count": 378,
     "metadata": {},
     "output_type": "execute_result"
    }
   ],
   "source": [
    "super_ = games_df[(games_df['category'] == \"SuperGM\") & (games_df['control'] == 'slow')]\n",
    "gm_ = games_df[(games_df['category'] == \"GM\") & (games_df['control'] == 'slow')]\n",
    "super_.head()"
   ]
  },
  {
   "cell_type": "code",
   "execution_count": 377,
   "metadata": {},
   "outputs": [
    {
     "data": {
      "image/png": "[encoded data removed]",
      "text/plain": [
       "<Figure size 800x400 with 1 Axes>"
      ]
     },
     "metadata": {},
     "output_type": "display_data"
    }
   ],
   "source": [
    "result_counts = super_.groupby(['opening', 'result']).size().unstack(fill_value=0)\n",
    "\n",
    "openings = result_counts.index.tolist()\n",
    "\n",
    "half_half = result_counts.get('1/2-1/2', 0).tolist()\n",
    "one_zero = result_counts.get('1-0', 0).tolist()\n",
    "zero_one = result_counts.get('0-1', 0).tolist()\n",
    "\n",
    "bar_width = 0.25\n",
    "index = np.arange(len(openings))\n",
    "\n",
    "fig, ax = plt.subplots(figsize=(8, 4))\n",
    "\n",
    "ax.bar(index, half_half, bar_width, label=\"1/2-1/2\", color='blue')\n",
    "ax.bar(index + bar_width, one_zero, bar_width, label=\"1-0\", color='green')\n",
    "ax.bar(index + 2 * bar_width, zero_one, bar_width, label=\"0-1\", color='red')\n",
    "\n",
    "ax.set_xlabel('Opening')\n",
    "ax.set_ylabel('Count')\n",
    "ax.set_title('Distribution of Results by Opening(SuperGM, Slow)')\n",
    "ax.set_xticks(index + bar_width)\n",
    "ax.set_xticklabels(openings)\n",
    "ax.legend()\n",
    "\n",
    "plt.tight_layout()\n",
    "plt.show()"
   ]
  },
  {
   "cell_type": "code",
   "execution_count": 385,
   "metadata": {},
   "outputs": [
    {
     "data": {
      "image/png": "[encoded data removed]",
      "text/plain": [
       "<Figure size 800x400 with 1 Axes>"
      ]
     },
     "metadata": {},
     "output_type": "display_data"
    }
   ],
   "source": [
    "result_counts = gm_.groupby(['opening', 'result']).size().unstack(fill_value=0)\n",
    "\n",
    "openings = result_counts.index.tolist()\n",
    "\n",
    "half_half = result_counts.get('1/2-1/2', 0).tolist()\n",
    "one_zero = result_counts.get('1-0', 0).tolist()\n",
    "zero_one = result_counts.get('0-1', 0).tolist()\n",
    "\n",
    "bar_width = 0.25\n",
    "index = np.arange(len(openings))\n",
    "\n",
    "fig, ax = plt.subplots(figsize=(8, 4))\n",
    "\n",
    "ax.bar(index, half_half, bar_width, label=\"1/2-1/2\", color='blue')\n",
    "ax.bar(index + bar_width, one_zero, bar_width, label=\"1-0\", color='green')\n",
    "ax.bar(index + 2 * bar_width, zero_one, bar_width, label=\"0-1\", color='red')\n",
    "\n",
    "ax.set_xlabel('Opening')\n",
    "ax.set_ylabel('Count')\n",
    "ax.set_title('Distribution of Results by Opening(GM, Slow)')\n",
    "ax.set_xticks(index + bar_width)\n",
    "ax.set_xticklabels(openings)\n",
    "ax.legend()\n",
    "\n",
    "plt.tight_layout()\n",
    "plt.show()"
   ]
  },
  {
   "cell_type": "markdown",
   "metadata": {},
   "source": [
    "Стоим таблицу:\n",
    "| Дебют          | A |  B | C | D | E |\n",
    "|-----------------------|--------|-------|-----------| ----|----|\n",
    "| SuperGM              |        |       |           | | |\n",
    "| GM   |        |       |           | | |\n",
    "\n",
    "Остальные действии аналогично предыдущему номер"
   ]
  },
  {
   "cell_type": "code",
   "execution_count": 380,
   "metadata": {},
   "outputs": [
    {
     "data": {
      "text/plain": [
       "[[112153, 159252, 95233, 117383, 106720], [4739, 7847, 8826, 9408, 6442]]"
      ]
     },
     "execution_count": 380,
     "metadata": {},
     "output_type": "execute_result"
    }
   ],
   "source": [
    "vec = []\n",
    "for level in [\"GM\", \"SuperGM\"]:\n",
    "    cur = []\n",
    "    for flag in ['A', 'B', 'C', 'D', 'E']:\n",
    "        cur.append(games_df[(games_df['category'] == level) & (games_df['control'] == 'slow') & (games_df['opening'] == flag)].shape[0])\n",
    "    vec.append(cur)\n",
    "vec"
   ]
  },
  {
   "cell_type": "code",
   "execution_count": 381,
   "metadata": {},
   "outputs": [
    {
     "data": {
      "text/plain": [
       "\n",
       "        Chi2. \n",
       "        H0: F[X] = F[Y]\n",
       "        H1: F[X] != F[Y]\n",
       "        ===================================\n",
       "        Statistics value: 2922.5878011720106. Critical value: 9.487729036781154\n",
       "        P-value: 0.0, \n",
       "        Verdict: Reject H0 at significance level 0.05\n",
       "        "
      ]
     },
     "execution_count": 381,
     "metadata": {},
     "output_type": "execute_result"
    }
   ],
   "source": [
    "chi2_contingency(np.array(vec))"
   ]
  },
  {
   "cell_type": "markdown",
   "metadata": {},
   "source": [
    "Теперь проверьте влияет ли выбор между открытым и закрытым началом:"
   ]
  },
  {
   "cell_type": "markdown",
   "metadata": {},
   "source": [
    "Стоим таблицу:\n",
    "| Дебют          | 0-1 |  1-0 | 1/2-1/2 |\n",
    "|-----------------------|--------|-------|-----------|\n",
    "| C             |        |       |           |\n",
    "| D   |        |       |           |\n",
    "\n",
    "Остальные действии аналогично предыдущему номер"
   ]
  },
  {
   "cell_type": "code",
   "execution_count": 396,
   "metadata": {
    "execution": {
     "iopub.execute_input": "2024-11-03T12:41:01.924443Z",
     "iopub.status.busy": "2024-11-03T12:41:01.924005Z",
     "iopub.status.idle": "2024-11-03T12:41:02.020796Z",
     "shell.execute_reply": "2024-11-03T12:41:02.019720Z",
     "shell.execute_reply.started": "2024-11-03T12:41:01.924401Z"
    }
   },
   "outputs": [
    {
     "data": {
      "text/plain": [
       "[[1119, 2310, 5397], [1216, 2287, 5905]]"
      ]
     },
     "execution_count": 396,
     "metadata": {},
     "output_type": "execute_result"
    }
   ],
   "source": [
    "vec_slow = []\n",
    "for flag in [\"C\", \"D\"]:\n",
    "    cur = []\n",
    "    for res in ['0-1', '1-0', '1/2-1/2']:\n",
    "        cur.append(games_df[(games_df['category'] == \"SuperGM\") & (games_df['control'] == 'slow') & (games_df['opening'] == flag) & (games_df['result'] == res)].shape[0])\n",
    "    vec_slow.append(cur)\n",
    "vec_slow"
   ]
  },
  {
   "cell_type": "markdown",
   "metadata": {},
   "source": [
    "### Slow"
   ]
  },
  {
   "cell_type": "code",
   "execution_count": 398,
   "metadata": {},
   "outputs": [
    {
     "data": {
      "text/plain": [
       "\n",
       "        Chi2. \n",
       "        H0: F[X] = F[Y]\n",
       "        H1: F[X] != F[Y]\n",
       "        ===================================\n",
       "        Statistics value: 8.41016888514769. Critical value: 5.99146454710798\n",
       "        P-value: 0.01491952617268355, \n",
       "        Verdict: Reject H0 at significance level 0.05\n",
       "        "
      ]
     },
     "execution_count": 398,
     "metadata": {},
     "output_type": "execute_result"
    }
   ],
   "source": [
    "chi2_contingency(np.array(vec_slow))"
   ]
  },
  {
   "cell_type": "markdown",
   "metadata": {},
   "source": [
    "### Rapid"
   ]
  },
  {
   "cell_type": "code",
   "execution_count": 399,
   "metadata": {},
   "outputs": [
    {
     "data": {
      "text/plain": [
       "[[555, 870, 1179], [624, 835, 1259]]"
      ]
     },
     "execution_count": 399,
     "metadata": {},
     "output_type": "execute_result"
    }
   ],
   "source": [
    "vec_rapid = []\n",
    "for flag in [\"C\", \"D\"]:\n",
    "    cur = []\n",
    "    for res in ['0-1', '1-0', '1/2-1/2']:\n",
    "        cur.append(games_df[(games_df['category'] == \"SuperGM\") & (games_df['control'] == 'rapid') & (games_df['opening'] == flag) & (games_df['result'] == res)].shape[0])\n",
    "    vec_rapid.append(cur)\n",
    "vec_rapid"
   ]
  },
  {
   "cell_type": "code",
   "execution_count": 400,
   "metadata": {},
   "outputs": [
    {
     "data": {
      "text/plain": [
       "\n",
       "        Chi2. \n",
       "        H0: F[X] = F[Y]\n",
       "        H1: F[X] != F[Y]\n",
       "        ===================================\n",
       "        Statistics value: 4.942074049104526. Critical value: 5.99146454710798\n",
       "        P-value: 0.08449718789243366, \n",
       "        Verdict: Accept H0 at significance level 0.05\n",
       "        "
      ]
     },
     "execution_count": 400,
     "metadata": {},
     "output_type": "execute_result"
    }
   ],
   "source": [
    "chi2_contingency(np.array(vec_rapid))"
   ]
  },
  {
   "cell_type": "markdown",
   "metadata": {},
   "source": [
    "### Blitz"
   ]
  },
  {
   "cell_type": "code",
   "execution_count": 401,
   "metadata": {},
   "outputs": [
    {
     "data": {
      "text/plain": [
       "[[584, 724, 733], [658, 805, 748]]"
      ]
     },
     "execution_count": 401,
     "metadata": {},
     "output_type": "execute_result"
    }
   ],
   "source": [
    "vec_blitz = []\n",
    "for flag in [\"C\", \"D\"]:\n",
    "    cur = []\n",
    "    for res in ['0-1', '1-0', '1/2-1/2']:\n",
    "        cur.append(games_df[(games_df['category'] == \"SuperGM\") & (games_df['control'] == 'blitz') & (games_df['opening'] == flag) & (games_df['result'] == res)].shape[0])\n",
    "    vec_blitz.append(cur)\n",
    "vec_blitz"
   ]
  },
  {
   "cell_type": "code",
   "execution_count": 402,
   "metadata": {},
   "outputs": [
    {
     "data": {
      "text/plain": [
       "\n",
       "        Chi2. \n",
       "        H0: F[X] = F[Y]\n",
       "        H1: F[X] != F[Y]\n",
       "        ===================================\n",
       "        Statistics value: 2.058470934837385. Critical value: 5.99146454710798\n",
       "        P-value: 0.3572800083859323, \n",
       "        Verdict: Accept H0 at significance level 0.05\n",
       "        "
      ]
     },
     "execution_count": 402,
     "metadata": {},
     "output_type": "execute_result"
    }
   ],
   "source": [
    "chi2_contingency(np.array(vec_blitz))"
   ]
  },
  {
   "cell_type": "markdown",
   "metadata": {},
   "source": [
    "Что изменится если брать уровень значимости 0.01? А если брать уровень значимости 0.1? Дайте ответы на эти вопросы и напишите интерпретацию полученных результатов."
   ]
  },
  {
   "cell_type": "markdown",
   "metadata": {},
   "source": [
    "#### Slow"
   ]
  },
  {
   "cell_type": "code",
   "execution_count": 403,
   "metadata": {},
   "outputs": [
    {
     "data": {
      "text/plain": [
       "\n",
       "        Chi2. \n",
       "        H0: F[X] = F[Y]\n",
       "        H1: F[X] != F[Y]\n",
       "        ===================================\n",
       "        Statistics value: 8.41016888514769. Critical value: 9.21034037197618\n",
       "        P-value: 0.01491952617268355, \n",
       "        Verdict: Accept H0 at significance level 0.01\n",
       "        "
      ]
     },
     "execution_count": 403,
     "metadata": {},
     "output_type": "execute_result"
    }
   ],
   "source": [
    "chi2_contingency(np.array(vec_slow), significance=0.01)"
   ]
  },
  {
   "cell_type": "code",
   "execution_count": 404,
   "metadata": {},
   "outputs": [
    {
     "data": {
      "text/plain": [
       "\n",
       "        Chi2. \n",
       "        H0: F[X] = F[Y]\n",
       "        H1: F[X] != F[Y]\n",
       "        ===================================\n",
       "        Statistics value: 8.41016888514769. Critical value: 4.605170185988092\n",
       "        P-value: 0.01491952617268355, \n",
       "        Verdict: Reject H0 at significance level 0.1\n",
       "        "
      ]
     },
     "execution_count": 404,
     "metadata": {},
     "output_type": "execute_result"
    }
   ],
   "source": [
    "chi2_contingency(np.array(vec_slow), significance=0.1)"
   ]
  },
  {
   "cell_type": "markdown",
   "metadata": {},
   "source": [
    "#### Rapid"
   ]
  },
  {
   "cell_type": "code",
   "execution_count": 405,
   "metadata": {},
   "outputs": [
    {
     "data": {
      "text/plain": [
       "\n",
       "        Chi2. \n",
       "        H0: F[X] = F[Y]\n",
       "        H1: F[X] != F[Y]\n",
       "        ===================================\n",
       "        Statistics value: 4.942074049104526. Critical value: 9.21034037197618\n",
       "        P-value: 0.08449718789243366, \n",
       "        Verdict: Accept H0 at significance level 0.01\n",
       "        "
      ]
     },
     "execution_count": 405,
     "metadata": {},
     "output_type": "execute_result"
    }
   ],
   "source": [
    "chi2_contingency(np.array(vec_rapid), significance=0.01)"
   ]
  },
  {
   "cell_type": "code",
   "execution_count": 406,
   "metadata": {},
   "outputs": [
    {
     "data": {
      "text/plain": [
       "\n",
       "        Chi2. \n",
       "        H0: F[X] = F[Y]\n",
       "        H1: F[X] != F[Y]\n",
       "        ===================================\n",
       "        Statistics value: 4.942074049104526. Critical value: 4.605170185988092\n",
       "        P-value: 0.08449718789243366, \n",
       "        Verdict: Reject H0 at significance level 0.1\n",
       "        "
      ]
     },
     "execution_count": 406,
     "metadata": {},
     "output_type": "execute_result"
    }
   ],
   "source": [
    "chi2_contingency(np.array(vec_rapid), significance=0.1)"
   ]
  },
  {
   "cell_type": "markdown",
   "metadata": {},
   "source": [
    "#### Blitz"
   ]
  },
  {
   "cell_type": "code",
   "execution_count": 407,
   "metadata": {},
   "outputs": [
    {
     "data": {
      "text/plain": [
       "\n",
       "        Chi2. \n",
       "        H0: F[X] = F[Y]\n",
       "        H1: F[X] != F[Y]\n",
       "        ===================================\n",
       "        Statistics value: 2.058470934837385. Critical value: 9.21034037197618\n",
       "        P-value: 0.3572800083859323, \n",
       "        Verdict: Accept H0 at significance level 0.01\n",
       "        "
      ]
     },
     "execution_count": 407,
     "metadata": {},
     "output_type": "execute_result"
    }
   ],
   "source": [
    "chi2_contingency(np.array(vec_blitz), significance=0.01)"
   ]
  },
  {
   "cell_type": "code",
   "execution_count": 408,
   "metadata": {},
   "outputs": [
    {
     "data": {
      "text/plain": [
       "\n",
       "        Chi2. \n",
       "        H0: F[X] = F[Y]\n",
       "        H1: F[X] != F[Y]\n",
       "        ===================================\n",
       "        Statistics value: 2.058470934837385. Critical value: 4.605170185988092\n",
       "        P-value: 0.3572800083859323, \n",
       "        Verdict: Accept H0 at significance level 0.1\n",
       "        "
      ]
     },
     "execution_count": 408,
     "metadata": {},
     "output_type": "execute_result"
    }
   ],
   "source": [
    "chi2_contingency(np.array(vec_blitz), significance=0.1)"
   ]
  },
  {
   "cell_type": "markdown",
   "metadata": {},
   "source": [
    "**Заключение**: \n",
    "\n",
    "При более строгом уровне значимости 0.01 (низкая вероятность ошибки первого рода) мы часто не можем отклонить нулевую гипотезу, так как p-значение оказалось больше 0.01 в большинстве случаев.\n",
    "При уровне значимости 0.1 (более высокая вероятность ошибки первого рода) мы видим больше случаев, где нулевая гипотеза отклоняется, так как p-значение оказалось меньше 0.1."
   ]
  },
  {
   "cell_type": "markdown",
   "metadata": {},
   "source": [
    "## Задача 4. Исследование длин партий в разных формах временного контроля (10 баллов)\n",
    "\n",
    "Попробуйте разобраться в том, какому распределению следуют длительности партий в формате рапид. Выберете несколько распределений и попробуйте оценить их параметры. Постройте гистограммы на которых изображено распределение длительности партий и теоретические плотности распределений с оценёнными параметрами. \n",
    "\n",
    "Для оценки параметров распределений можно использовать метод ``fit()`` класса ``scipy.rv_continious()``."
   ]
  },
  {
   "cell_type": "code",
   "execution_count": 411,
   "metadata": {},
   "outputs": [
    {
     "data": {
      "text/html": [
       "<div>\n",
       "<style scoped>\n",
       "    .dataframe tbody tr th:only-of-type {\n",
       "        vertical-align: middle;\n",
       "    }\n",
       "\n",
       "    .dataframe tbody tr th {\n",
       "        vertical-align: top;\n",
       "    }\n",
       "\n",
       "    .dataframe thead th {\n",
       "        text-align: right;\n",
       "    }\n",
       "</style>\n",
       "<table border=\"1\" class=\"dataframe\">\n",
       "  <thead>\n",
       "    <tr style=\"text-align: right;\">\n",
       "      <th></th>\n",
       "      <th>result</th>\n",
       "      <th>control</th>\n",
       "      <th>elo_white</th>\n",
       "      <th>elo_black</th>\n",
       "      <th>elo_average</th>\n",
       "      <th>elo_difference</th>\n",
       "      <th>length</th>\n",
       "      <th>opening</th>\n",
       "      <th>date</th>\n",
       "      <th>site</th>\n",
       "      <th>category</th>\n",
       "    </tr>\n",
       "  </thead>\n",
       "  <tbody>\n",
       "    <tr>\n",
       "      <th>1694</th>\n",
       "      <td>1-0</td>\n",
       "      <td>rapid</td>\n",
       "      <td>2390</td>\n",
       "      <td>2455</td>\n",
       "      <td>2422.5</td>\n",
       "      <td>-65</td>\n",
       "      <td>175</td>\n",
       "      <td>A</td>\n",
       "      <td>1980</td>\n",
       "      <td>Nijmegen</td>\n",
       "      <td>IM</td>\n",
       "    </tr>\n",
       "    <tr>\n",
       "      <th>1695</th>\n",
       "      <td>1-0</td>\n",
       "      <td>rapid</td>\n",
       "      <td>2545</td>\n",
       "      <td>2395</td>\n",
       "      <td>2470.0</td>\n",
       "      <td>150</td>\n",
       "      <td>47</td>\n",
       "      <td>E</td>\n",
       "      <td>1980</td>\n",
       "      <td>Nijmegen</td>\n",
       "      <td>GM</td>\n",
       "    </tr>\n",
       "    <tr>\n",
       "      <th>1696</th>\n",
       "      <td>1-0</td>\n",
       "      <td>rapid</td>\n",
       "      <td>2600</td>\n",
       "      <td>2410</td>\n",
       "      <td>2505.0</td>\n",
       "      <td>190</td>\n",
       "      <td>49</td>\n",
       "      <td>B</td>\n",
       "      <td>1980</td>\n",
       "      <td>Nijmegen</td>\n",
       "      <td>GM</td>\n",
       "    </tr>\n",
       "    <tr>\n",
       "      <th>1697</th>\n",
       "      <td>0-1</td>\n",
       "      <td>rapid</td>\n",
       "      <td>2465</td>\n",
       "      <td>2595</td>\n",
       "      <td>2530.0</td>\n",
       "      <td>-130</td>\n",
       "      <td>72</td>\n",
       "      <td>B</td>\n",
       "      <td>1980</td>\n",
       "      <td>Nijmegen</td>\n",
       "      <td>GM</td>\n",
       "    </tr>\n",
       "    <tr>\n",
       "      <th>1698</th>\n",
       "      <td>0-1</td>\n",
       "      <td>rapid</td>\n",
       "      <td>2395</td>\n",
       "      <td>2600</td>\n",
       "      <td>2497.5</td>\n",
       "      <td>-205</td>\n",
       "      <td>54</td>\n",
       "      <td>C</td>\n",
       "      <td>1980</td>\n",
       "      <td>Nijmegen</td>\n",
       "      <td>GM</td>\n",
       "    </tr>\n",
       "  </tbody>\n",
       "</table>\n",
       "</div>"
      ],
      "text/plain": [
       "     result control  elo_white  elo_black  elo_average  elo_difference  \\\n",
       "1694    1-0   rapid       2390       2455       2422.5             -65   \n",
       "1695    1-0   rapid       2545       2395       2470.0             150   \n",
       "1696    1-0   rapid       2600       2410       2505.0             190   \n",
       "1697    0-1   rapid       2465       2595       2530.0            -130   \n",
       "1698    0-1   rapid       2395       2600       2497.5            -205   \n",
       "\n",
       "      length opening  date      site category  \n",
       "1694     175       A  1980  Nijmegen       IM  \n",
       "1695      47       E  1980  Nijmegen       GM  \n",
       "1696      49       B  1980  Nijmegen       GM  \n",
       "1697      72       B  1980  Nijmegen       GM  \n",
       "1698      54       C  1980  Nijmegen       GM  "
      ]
     },
     "execution_count": 411,
     "metadata": {},
     "output_type": "execute_result"
    }
   ],
   "source": [
    "rapid_ = games_df[games_df['control'] == 'rapid']\n",
    "rapid_.head()"
   ]
  },
  {
   "cell_type": "code",
   "execution_count": 413,
   "metadata": {
    "execution": {
     "iopub.execute_input": "2024-11-03T12:41:02.066405Z",
     "iopub.status.busy": "2024-11-03T12:41:02.065998Z",
     "iopub.status.idle": "2024-11-03T12:41:05.442034Z",
     "shell.execute_reply": "2024-11-03T12:41:05.440956Z",
     "shell.execute_reply.started": "2024-11-03T12:41:02.066365Z"
    }
   },
   "outputs": [
    {
     "data": {
      "image/png": "[encoded data removed]",
      "text/plain": [
       "<Figure size 640x480 with 1 Axes>"
      ]
     },
     "metadata": {},
     "output_type": "display_data"
    }
   ],
   "source": [
    "import numpy as np\n",
    "import pandas as pd\n",
    "import matplotlib.pyplot as plt\n",
    "from scipy.stats import gamma, lognorm, exponnorm, invgauss, invgamma, rayleigh, maxwell\n",
    "\n",
    "lengths = rapid_['length'].values\n",
    "\n",
    "params_gamma = gamma.fit(lengths)\n",
    "params_lognorm = lognorm.fit(lengths)\n",
    "params_exponnorm = exponnorm.fit(lengths)\n",
    "params_invgauss = invgauss.fit(lengths)\n",
    "params_invgamma = invgamma.fit(lengths)\n",
    "params_rayleigh = rayleigh.fit(lengths)\n",
    "params_maxwell = maxwell.fit(lengths)\n",
    "\n",
    "plt.hist(lengths, bins=50, density=True, alpha=0.5, color='g', label='Data Histogram')\n",
    "\n",
    "x = np.linspace(min(lengths), max(lengths), 100)\n",
    "\n",
    "plt.plot(x, gamma.pdf(x, *params_gamma), 'r-', label='Gamma Fit')\n",
    "plt.plot(x, lognorm.pdf(x, *params_lognorm), 'b-', label='Log-Normal Fit')\n",
    "plt.plot(x, exponnorm.pdf(x, *params_exponnorm), 'm-', label='Exponential Normal Fit')\n",
    "plt.plot(x, invgauss.pdf(x, *params_invgauss), 'c-', label='Inverse Gaussian Fit')\n",
    "plt.plot(x, invgamma.pdf(x, *params_invgamma), 'y-', label='Inverse Gamma Fit')\n",
    "plt.plot(x, rayleigh.pdf(x, *params_rayleigh), 'k-', label='Rayleigh Fit')\n",
    "plt.plot(x, maxwell.pdf(x, *params_maxwell), 'orange', label='Maxwell Fit')\n",
    "\n",
    "plt.title('Distribution of Game Lengths')\n",
    "plt.xlabel('Length')\n",
    "plt.ylabel('Density')\n",
    "plt.legend()\n",
    "plt.grid()\n",
    "plt.show()"
   ]
  },
  {
   "cell_type": "markdown",
   "metadata": {},
   "source": [
    "Выберите три наиболее на ваш взгляд подходящих распределения и постройте для них Q-Q график. Подробнее про Q-Q графики можно прочитать [здесь](https://habr.com/ru/articles/578754/) (обратите внимание, что в статье делается упор на Q-Q графики относительно нормального распределения --- вам же нужно построить графики относительно распределений, параметры которых вы оценили)."
   ]
  },
  {
   "cell_type": "code",
   "execution_count": 435,
   "metadata": {
    "execution": {
     "iopub.execute_input": "2024-11-03T12:41:05.443697Z",
     "iopub.status.busy": "2024-11-03T12:41:05.443322Z",
     "iopub.status.idle": "2024-11-03T12:41:05.452834Z",
     "shell.execute_reply": "2024-11-03T12:41:05.451566Z",
     "shell.execute_reply.started": "2024-11-03T12:41:05.443658Z"
    }
   },
   "outputs": [],
   "source": [
    "def qqplot(data : ArrayLike, distribution: stats.rv_continuous,  quantiles : int,  ax : plt.axis) -> plt.axis:\n",
    "    \"\"\"\n",
    "        Plots Q-Q plot agains theoretical distribution. \n",
    "        \n",
    "        Parameters\n",
    "        ----------\n",
    "        data : ArrayLike\n",
    "            sample data\n",
    "        distribution: stats.rv_continuous\n",
    "            theoretical distribution agains which quantiles will be plotted\n",
    "        quantiles: int\n",
    "            number of quantiles (must be less than size of the data)\n",
    "        ax: plt.axis\n",
    "            PyPlot Axis object, on which QQ-plot should be plotted\n",
    "            \n",
    "        Returns\n",
    "        -------\n",
    "        ax: plt.axis \n",
    "            PyPlot Axis object with QQ-plot\n",
    "    \"\"\"\n",
    "    \n",
    "    sample_quantiles = np.percentile(data, np.linspace(0, 100, quantiles))\n",
    "    \n",
    "    params = distribution.fit(data)\n",
    "    theoretical_quantiles = distribution.ppf(np.linspace(0, 1, quantiles), *params)\n",
    "\n",
    "    ax.scatter(theoretical_quantiles, sample_quantiles, color='blue', label='Sample Quantiles')\n",
    "    ax.plot([sample_quantiles.min(), 200], \n",
    "            [sample_quantiles.min(), 200], \n",
    "            color='red', linestyle='--', label='y=x')\n",
    "    \n",
    "    ax.set_title(f'Q-Q Plot against {distribution.name.capitalize()} Distribution')\n",
    "    ax.set_xlabel('Theoretical Quantiles')\n",
    "    ax.set_ylabel('Sample Quantiles')\n",
    "    ax.legend()\n",
    "    ax.grid()\n",
    "\n",
    "    return ax"
   ]
  },
  {
   "cell_type": "code",
   "execution_count": 436,
   "metadata": {
    "execution": {
     "iopub.execute_input": "2024-11-03T12:41:05.455298Z",
     "iopub.status.busy": "2024-11-03T12:41:05.454459Z",
     "iopub.status.idle": "2024-11-03T12:41:06.203555Z",
     "shell.execute_reply": "2024-11-03T12:41:06.202148Z",
     "shell.execute_reply.started": "2024-11-03T12:41:05.455247Z"
    }
   },
   "outputs": [
    {
     "data": {
      "image/png": "[encoded data removed]",
      "text/plain": [
       "<Figure size 1500x500 with 3 Axes>"
      ]
     },
     "metadata": {},
     "output_type": "display_data"
    }
   ],
   "source": [
    "fig, axs = plt.subplots(1, 3, figsize = (15, 5))\n",
    "\n",
    "qqplot(lengths, stats.exponnorm, quantiles=100, ax=axs[0])\n",
    "qqplot(lengths, stats.lognorm, quantiles=100, ax=axs[1])\n",
    "qqplot(lengths, stats.invgamma, quantiles=100, ax=axs[2])\n",
    "\n",
    "plt.tight_layout()\n",
    "plt.show()"
   ]
  },
  {
   "cell_type": "markdown",
   "metadata": {},
   "source": [
    " На основе всего выше сделанного выберете одно распределение, которое вам кажется наиболее подходящим. После того как вы выбрали распределение $F_0$, проверьте соответствующую гипотезу согласия. Конкретнее, проверьте гипотезу\n",
    "$$\n",
    "H_0: X_1,..,X_n \\sim F_0\n",
    "$$\n",
    "против альтернативы\n",
    "$$\n",
    "H_A: X_1,..,X_n \\nsim F_0\n",
    "$$\n",
    "\n",
    "\n",
    "Такую гипотезу часто проверяют с помощью статистики критерия Колмогорова-Смирнова:\n",
    "$$\n",
    "D = \\sqrt{n} \\sup_x \\vert F_{0} - \\hat{F}(x)\\vert,\n",
    "$$\n",
    "где $\\hat{F}$ -- эмпирическая функция распределения, которая задётся как\n",
    "$$\n",
    "\\hat{F}(x) = \\frac{1}{n}\\sum_{i=1}^n \\mathbb{1}(X_i \\leq x).\n",
    "$$\n",
    "Выражение $1(условие)$ равно $1$, если условие верно и $0$ в противном случае -- так выше считается количество элементов выборки $\\leq x$. Статистика $D$ при больших $n$ (сотен уже достаточно) имеет распределение Колмогорова, так что можно построить критерий для проверки. Чтобы упростить техническую часть с подсчётом $D$, воспользуйтесь готовым тестом из пакета scipy.stats."
   ]
  },
  {
   "cell_type": "code",
   "execution_count": 439,
   "metadata": {
    "execution": {
     "iopub.execute_input": "2024-11-03T12:41:06.205699Z",
     "iopub.status.busy": "2024-11-03T12:41:06.205304Z",
     "iopub.status.idle": "2024-11-03T12:41:06.361753Z",
     "shell.execute_reply": "2024-11-03T12:41:06.360385Z",
     "shell.execute_reply.started": "2024-11-03T12:41:06.205659Z"
    }
   },
   "outputs": [
    {
     "name": "stdout",
     "output_type": "stream",
     "text": [
      "Статистика D: 0.997032071377355\n",
      "p-значение: 0.0\n",
      "Reject H0\n"
     ]
    }
   ],
   "source": [
    "import numpy as np\n",
    "import matplotlib.pyplot as plt\n",
    "from scipy import stats\n",
    "\n",
    "D, p_value = stats.kstest(lengths, 'exponnorm', args=(1, 0, np.exp(0)))\n",
    "\n",
    "alpha = 0.05\n",
    "print(f\"Статистика D: {D}\")\n",
    "print(f\"p-значение: {p_value}\")\n",
    "\n",
    "if p_value < alpha:\n",
    "    print(\"Reject H0\")\n",
    "else:\n",
    "    print(\"Accept H0\")"
   ]
  },
  {
   "cell_type": "markdown",
   "metadata": {},
   "source": [
    "Объясните, почему получилось такое значение несмотря на то, что подобранное вами распределение достаточно неплохо описывает данные? Подумайте, можно ли как-то изменить процедуру проверки для того чтобы можно было воспользоваться этим тестом? Обратите внимание на две вещи:\n",
    "1. Как считается статистка критерия КС и почему для наших данных эмпирическая функция распределения никогда не будет сходится к функции распределения выбранного вами распределения? Как можно сделать дискретные данные  не-дискретными?\n",
    "2.  Обратите внимание на выброс в данных в районе где достигается значение статистики критерия (statistic location). С чем может быть связан этот выброс и как можно было бы его устранить?\n",
    "\n",
    "Опишите и реализуйте измененную процедуру. "
   ]
  },
  {
   "cell_type": "markdown",
   "metadata": {},
   "source": [
    "Дискретная природа данных приводит к постоянной разнице между ЭФР и теоретической функцией распределения, что увеличивает значение статистики КС. И может быть еще наличие выбросов.\n",
    "\n",
    "Теоретическая функция распределения непрерывна, из-за этого ЭФР никогда не будет полностью совпадать с теоретической функцией. Чтобы уменьшить эффект дискретности и приблизить данные к непрерывному виду, можно добавить к наблюдению небольшой случайный шум.\n",
    "\n",
    "В области, где статистика КС достигает максимума, выбросы могут значительно влиять на результат теста, увеличивая значение статистики и уменьшая p-значение."
   ]
  },
  {
   "cell_type": "code",
   "execution_count": 524,
   "metadata": {},
   "outputs": [
    {
     "name": "stdout",
     "output_type": "stream",
     "text": [
      "Статистика D: 0.0035845070329084128\n",
      "p-значение: 0.13972809074107828\n",
      "Accept H0\n"
     ]
    }
   ],
   "source": [
    "import copy\n",
    "import numpy as np\n",
    "from scipy import stats\n",
    "import matplotlib.pyplot as plt\n",
    "\n",
    "data = lengths.copy()\n",
    "#np.random.seed(42)\n",
    "noise = np.random.normal(0, np.sqrt(255), size=data.size)\n",
    "data_continuous = data + noise\n",
    "\n",
    "data_sorted = np.sort(data_continuous)\n",
    "data_filtered = data_sorted[data_sorted < 400]\n",
    "\n",
    "params_filtered = stats.exponnorm.fit(data_filtered)\n",
    "D_filtered, p_value_filtered = stats.kstest(data_filtered, 'exponnorm', args=params_filtered)\n",
    "print(f\"Статистика D: {D_filtered}\")\n",
    "print(f\"p-значение: {p_value_filtered}\")\n",
    "\n",
    "alpha = 0.05\n",
    "if p_value_filtered < alpha:\n",
    "    print(\"Reject H0\")\n",
    "else:\n",
    "    print(\"Accept H0\")\n"
   ]
  },
  {
   "cell_type": "code",
   "execution_count": 525,
   "metadata": {},
   "outputs": [
    {
     "data": {
      "image/png": "[encoded data removed]",
      "text/plain": [
       "<Figure size 640x480 with 1 Axes>"
      ]
     },
     "metadata": {},
     "output_type": "display_data"
    }
   ],
   "source": [
    "plt.hist(data_filtered, bins=200, density=True, alpha=0.5, color='b', label='Data Histogram')\n",
    "x = np.linspace(min(data_filtered), max(data_filtered), 100)\n",
    "plt.plot(x, exponnorm.pdf(x, *exponnorm.fit(data_filtered)), 'm-', label='Exponential Normal Fit')\n",
    "plt.show()"
   ]
  },
  {
   "cell_type": "code",
   "execution_count": null,
   "metadata": {},
   "outputs": [],
   "source": []
  }
 ],
 "metadata": {
  "kaggle": {
   "accelerator": "none",
   "dataSources": [
    {
     "databundleVersionId": 10033477,
     "datasetId": 5978579,
     "sourceId": 9789639,
     "sourceType": "datasetVersion"
    }
   ],
   "dockerImageVersionId": 30786,
   "isGpuEnabled": false,
   "isInternetEnabled": true,
   "language": "python",
   "sourceType": "notebook"
  },
  "kernelspec": {
   "display_name": "Python 3 (ipykernel)",
   "language": "python",
   "name": "python3"
  },
  "language_info": {
   "codemirror_mode": {
    "name": "ipython",
    "version": 3
   },
   "file_extension": ".py",
   "mimetype": "text/x-python",
   "name": "python",
   "nbconvert_exporter": "python",
   "pygments_lexer": "ipython3",
   "version": "3.12.3"
  }
 },
 "nbformat": 4,
 "nbformat_minor": 4
}
